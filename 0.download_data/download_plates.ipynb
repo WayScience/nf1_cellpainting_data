{
 "cells": [
  {
   "attachments": {},
   "cell_type": "markdown",
   "metadata": {},
   "source": [
    "# Download NF1 datasets from Figshare"
   ]
  },
  {
   "attachments": {},
   "cell_type": "markdown",
   "metadata": {},
   "source": [
    "## Import libraries"
   ]
  },
  {
   "cell_type": "code",
   "execution_count": 1,
   "metadata": {},
   "outputs": [],
   "source": [
    "import pathlib\n",
    "\n",
    "from utils.download_figshare import download_figshare"
   ]
  },
  {
   "attachments": {},
   "cell_type": "markdown",
   "metadata": {},
   "source": [
    "## Set constant paths/variables"
   ]
  },
  {
   "cell_type": "code",
   "execution_count": 2,
   "metadata": {},
   "outputs": [],
   "source": [
    "# figshare url for both plates\n",
    "figshare_url = \"https://figshare.com/ndownloader/articles/\"\n",
    "\n",
    "# metadata folder for metadata files from both plates to be moved into\n",
    "metadata_dir = pathlib.Path(\"metadata\")\n",
    "\n",
    "# Since the Figshare download is a zip file for the NF1 data, we have to have the unzip_file parameter turned on\n",
    "unzip_files = True"
   ]
  },
  {
   "attachments": {},
   "cell_type": "markdown",
   "metadata": {},
   "source": [
    "## Set dictionary with specific path/variables for each plate"
   ]
  },
  {
   "cell_type": "code",
   "execution_count": 3,
   "metadata": {},
   "outputs": [],
   "source": [
    "# since we are dealing with zip files, we use the optional parameter `output_dir` where we specify where to extact the files to\n",
    "download_plates_info_dictionary = {\n",
    "    \"Plate_1\": {\n",
    "        \"figshare_id\": \"22233292\",\n",
    "        \"version_number\": \"1\",\n",
    "        \"output_folder\": \"Plate_1_zip\",\n",
    "        \"output_dir\": pathlib.Path(\"Plate_1\"),\n",
    "    },\n",
    "    \"Plate_2\": {\n",
    "        \"figshare_id\": \"22233700\",\n",
    "        \"version_number\": \"3\",\n",
    "        \"output_folder\": \"Plate_2_zip\",\n",
    "        \"output_dir\": pathlib.Path(\"Plate_2\"),\n",
    "    },\n",
    "}"
   ]
  },
  {
   "attachments": {},
   "cell_type": "markdown",
   "metadata": {},
   "source": [
    "## Download files for both plates"
   ]
  },
  {
   "cell_type": "code",
   "execution_count": 4,
   "metadata": {},
   "outputs": [
    {
     "name": "stdout",
     "output_type": "stream",
     "text": [
      "The files have been extracted into Plate_1 folder for plate with ID 22233292/versions/1!\n",
      "The metadata has been moved into its own directory!\n",
      "The files have been extracted into Plate_2 folder for plate with ID 22233700/versions/3!\n",
      "The metadata has been moved into its own directory!\n"
     ]
    }
   ],
   "source": [
    "for plate in download_plates_info_dictionary:\n",
    "    # access the plate info stored in the dictionary\n",
    "    plate_info = download_plates_info_dictionary[plate]\n",
    "    # set the parameters for the function as variables based on the plate dictionary info\n",
    "    figshare_id = str(\n",
    "        plate_info[\"figshare_id\"] + \"/versions/\" + plate_info[\"version_number\"]\n",
    "    )\n",
    "    output_folder = plate_info[\"output_folder\"]\n",
    "    output_dir = plate_info[\"output_dir\"]\n",
    "\n",
    "    # download images and metadata for both plates\n",
    "    download_figshare(\n",
    "        figshare_id=figshare_id,\n",
    "        output_file=output_folder,\n",
    "        output_dir=output_dir,\n",
    "        metadata_dir=metadata_dir,\n",
    "        figshare_url=figshare_url,\n",
    "        unzip_files=unzip_files,\n",
    "    )"
   ]
  }
 ],
 "metadata": {
  "kernelspec": {
   "display_name": "base",
   "language": "python",
   "name": "python3"
  },
  "language_info": {
   "codemirror_mode": {
    "name": "ipython",
    "version": 3
   },
   "file_extension": ".py",
   "mimetype": "text/x-python",
   "name": "python",
   "nbconvert_exporter": "python",
   "pygments_lexer": "ipython3",
   "version": "3.8.15"
  },
  "orig_nbformat": 4
 },
 "nbformat": 4,
 "nbformat_minor": 2
}
