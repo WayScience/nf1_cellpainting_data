{
 "cells": [
  {
   "attachments": {},
   "cell_type": "markdown",
   "metadata": {},
   "source": [
    "# Download NF1 datasets from Figshare"
   ]
  },
  {
   "attachments": {},
   "cell_type": "markdown",
   "metadata": {},
   "source": [
    "## Import libraries"
   ]
  },
  {
   "cell_type": "code",
   "execution_count": 1,
   "metadata": {},
   "outputs": [],
   "source": [
    "import pathlib\n",
    "import download_figshare as df"
   ]
  },
  {
   "attachments": {},
   "cell_type": "markdown",
   "metadata": {},
   "source": [
    "## Set paths and variables for each plate"
   ]
  },
  {
   "cell_type": "code",
   "execution_count": 2,
   "metadata": {},
   "outputs": [],
   "source": [
    "# Plate 1\n",
    "figshare_id1 = \"22233292/versions/1\"\n",
    "output_folder1 = \"Plate_1_zip\"\n",
    "output_dir1 = pathlib.Path(\"Plate_1\")\n",
    "\n",
    "# Plate 2\n",
    "figshare_id2 = \"22233700/versions/3\"\n",
    "output_folder2 = \"Plate_2_zip\"\n",
    "output_dir2 = pathlib.Path(\"Plate_2\")\n",
    "\n",
    "# figshare url for both plates\n",
    "figshare_url = \"https://figshare.com/ndownloader/articles/\"\n",
    "\n",
    "# metadata folder for metadata files from both plates to be moved into\n",
    "metadata_dir = pathlib.Path(\"metadata\")"
   ]
  },
  {
   "attachments": {},
   "cell_type": "markdown",
   "metadata": {},
   "source": [
    "# Download files for Plate 1"
   ]
  },
  {
   "cell_type": "code",
   "execution_count": 3,
   "metadata": {},
   "outputs": [
    {
     "name": "stdout",
     "output_type": "stream",
     "text": [
      "The files have been downloaded into Plate_1 folder for plate with ID 22233292/versions/1!\n",
      "The metadata has been moved into its own directory!\n"
     ]
    }
   ],
   "source": [
    "df.download_figshare(\n",
    "    figshare_id=figshare_id1,\n",
    "    output_file=output_folder1,\n",
    "    output_dir=output_dir1,\n",
    "    metadata_dir=metadata_dir,\n",
    "    figshare_url=figshare_url,\n",
    ")"
   ]
  },
  {
   "attachments": {},
   "cell_type": "markdown",
   "metadata": {},
   "source": [
    "## Download files for Plate 2"
   ]
  },
  {
   "cell_type": "code",
   "execution_count": 4,
   "metadata": {},
   "outputs": [
    {
     "name": "stdout",
     "output_type": "stream",
     "text": [
      "The files have been downloaded into Plate_2 folder for plate with ID 22233700/versions/3!\n",
      "The metadata has been moved into its own directory!\n"
     ]
    }
   ],
   "source": [
    "df.download_figshare(\n",
    "    figshare_id=figshare_id2,\n",
    "    output_file=output_folder2,\n",
    "    output_dir=output_dir2,\n",
    "    metadata_dir=metadata_dir,\n",
    "    figshare_url=figshare_url,\n",
    ")"
   ]
  }
 ],
 "metadata": {
  "kernelspec": {
   "display_name": "base",
   "language": "python",
   "name": "python3"
  },
  "language_info": {
   "codemirror_mode": {
    "name": "ipython",
    "version": 3
   },
   "file_extension": ".py",
   "mimetype": "text/x-python",
   "name": "python",
   "nbconvert_exporter": "python",
   "pygments_lexer": "ipython3",
   "version": "3.8.15"
  },
  "orig_nbformat": 4
 },
 "nbformat": 4,
 "nbformat_minor": 2
}
