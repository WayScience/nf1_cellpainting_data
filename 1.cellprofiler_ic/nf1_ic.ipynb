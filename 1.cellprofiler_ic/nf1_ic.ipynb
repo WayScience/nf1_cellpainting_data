{
 "cells": [
  {
   "attachments": {},
   "cell_type": "markdown",
   "metadata": {},
   "source": [
    "# Correct illumination and save images for each plate using CellProfiler"
   ]
  },
  {
   "attachments": {},
   "cell_type": "markdown",
   "metadata": {},
   "source": [
    "## Import libraries"
   ]
  },
  {
   "cell_type": "code",
   "execution_count": 1,
   "metadata": {},
   "outputs": [],
   "source": [
    "import pathlib\n",
    "\n",
    "import sys\n",
    "sys.path.append(\"../utils\")\n",
    "import cp_utils"
   ]
  },
  {
   "attachments": {},
   "cell_type": "markdown",
   "metadata": {},
   "source": [
    "## Set paths for each plate"
   ]
  },
  {
   "cell_type": "code",
   "execution_count": 2,
   "metadata": {},
   "outputs": [],
   "source": [
    "path_to_pipeline = pathlib.Path(\"NF1_illum.cppipe\").absolute()\n",
    "\n",
    "plates_info_dictionary = {\n",
    "    \"Plate_1\": {\n",
    "        \"path_to_images\": pathlib.Path(\"../0.download_data/Plate_1/\").absolute(),\n",
    "        \"path_to_output\": pathlib.Path(\"Corrected_Plate_1\").absolute(),\n",
    "    },\n",
    "    \"Plate_2\": {\n",
    "        \"path_to_images\": pathlib.Path(\"../0.download_data/Plate_2/\").absolute(),\n",
    "        \"path_to_output\": pathlib.Path(\"Corrected_Plate_2\").absolute(),\n",
    "    },\n",
    "}"
   ]
  },
  {
   "attachments": {},
   "cell_type": "markdown",
   "metadata": {},
   "source": [
    "## Run illumination correction pipeline on each plate"
   ]
  },
  {
   "cell_type": "code",
   "execution_count": 3,
   "metadata": {},
   "outputs": [
    {
     "name": "stderr",
     "output_type": "stream",
     "text": [
      "Times reported are CPU and Wall-clock times for each module\n",
      "Tue Mar 14 14:13:52 2023: Image # 1, module Images # 1: CPU_time = 0.00 secs, Wall_time = 0.00 secs\n",
      "Tue Mar 14 14:13:52 2023: Image # 1, module Metadata # 2: CPU_time = 0.00 secs, Wall_time = 0.00 secs\n",
      "Tue Mar 14 14:13:52 2023: Image # 1, module NamesAndTypes # 3: CPU_time = 1.06 secs, Wall_time = 0.25 secs\n",
      "Tue Mar 14 14:13:52 2023: Image # 1, module Groups # 4: CPU_time = 0.00 secs, Wall_time = 0.00 secs\n",
      "Tue Mar 14 14:13:52 2023: Image # 1, module CorrectIlluminationCalculate # 5: CPU_time = 1.50 secs, Wall_time = 1.25 secs\n",
      "Tue Mar 14 14:13:53 2023: Image # 1, module CorrectIlluminationApply # 6: CPU_time = 0.00 secs, Wall_time = 0.00 secs\n",
      "Tue Mar 14 14:13:53 2023: Image # 1, module CorrectIlluminationCalculate # 7: CPU_time = 1.26 secs, Wall_time = 1.25 secs\n",
      "Tue Mar 14 14:13:54 2023: Image # 1, module CorrectIlluminationApply # 8: CPU_time = 0.00 secs, Wall_time = 0.00 secs\n",
      "Tue Mar 14 14:13:54 2023: Image # 1, module CorrectIlluminationCalculate # 9: CPU_time = 3.34 secs, Wall_time = 3.33 secs\n",
      "Tue Mar 14 14:13:58 2023: Image # 1, module CorrectIlluminationApply # 10: CPU_time = 0.00 secs, Wall_time = 0.00 secs\n",
      "Tue Mar 14 14:13:58 2023: Image # 1, module SaveImages # 11: CPU_time = 0.14 secs, Wall_time = 0.14 secs\n",
      "Tue Mar 14 14:13:58 2023: Image # 1, module SaveImages # 12: CPU_time = 0.09 secs, Wall_time = 0.09 secs\n",
      "Tue Mar 14 14:13:58 2023: Image # 1, module SaveImages # 13: CPU_time = 0.09 secs, Wall_time = 0.09 secs\n",
      "Tue Mar 14 14:13:58 2023: Image # 2, module Images # 1: CPU_time = 0.00 secs, Wall_time = 0.00 secs\n",
      "Tue Mar 14 14:13:58 2023: Image # 2, module Metadata # 2: CPU_time = 0.00 secs, Wall_time = 0.00 secs\n",
      "Tue Mar 14 14:13:58 2023: Image # 2, module NamesAndTypes # 3: CPU_time = 0.63 secs, Wall_time = 0.20 secs\n",
      "Tue Mar 14 14:13:58 2023: Image # 2, module Groups # 4: CPU_time = 0.00 secs, Wall_time = 0.00 secs\n",
      "Tue Mar 14 14:13:58 2023: Image # 2, module CorrectIlluminationCalculate # 5: CPU_time = 1.45 secs, Wall_time = 1.24 secs\n",
      "Tue Mar 14 14:13:59 2023: Image # 2, module CorrectIlluminationApply # 6: CPU_time = 0.01 secs, Wall_time = 0.00 secs\n",
      "Tue Mar 14 14:13:59 2023: Image # 2, module CorrectIlluminationCalculate # 7: CPU_time = 1.28 secs, Wall_time = 1.24 secs\n",
      "Tue Mar 14 14:14:01 2023: Image # 2, module CorrectIlluminationApply # 8: CPU_time = 0.00 secs, Wall_time = 0.00 secs\n",
      "Tue Mar 14 14:14:01 2023: Image # 2, module CorrectIlluminationCalculate # 9: CPU_time = 3.37 secs, Wall_time = 3.37 secs\n",
      "Tue Mar 14 14:14:04 2023: Image # 2, module CorrectIlluminationApply # 10: CPU_time = 0.01 secs, Wall_time = 0.00 secs\n",
      "Tue Mar 14 14:14:04 2023: Image # 2, module SaveImages # 11: CPU_time = 0.13 secs, Wall_time = 0.14 secs\n",
      "Tue Mar 14 14:14:04 2023: Image # 2, module SaveImages # 12: CPU_time = 0.10 secs, Wall_time = 0.10 secs\n",
      "Tue Mar 14 14:14:04 2023: Image # 2, module SaveImages # 13: CPU_time = 0.11 secs, Wall_time = 0.11 secs\n",
      "Tue Mar 14 14:14:04 2023: Image # 3, module Images # 1: CPU_time = 0.00 secs, Wall_time = 0.00 secs\n",
      "Tue Mar 14 14:14:04 2023: Image # 3, module Metadata # 2: CPU_time = 0.00 secs, Wall_time = 0.00 secs\n",
      "Tue Mar 14 14:14:04 2023: Image # 3, module NamesAndTypes # 3: CPU_time = 0.54 secs, Wall_time = 0.19 secs\n",
      "Tue Mar 14 14:14:05 2023: Image # 3, module Groups # 4: CPU_time = 0.00 secs, Wall_time = 0.00 secs\n",
      "Tue Mar 14 14:14:05 2023: Image # 3, module CorrectIlluminationCalculate # 5: CPU_time = 1.35 secs, Wall_time = 1.25 secs\n",
      "Tue Mar 14 14:14:06 2023: Image # 3, module CorrectIlluminationApply # 6: CPU_time = 0.00 secs, Wall_time = 0.00 secs\n",
      "Tue Mar 14 14:14:06 2023: Image # 3, module CorrectIlluminationCalculate # 7: CPU_time = 1.30 secs, Wall_time = 1.25 secs\n",
      "Tue Mar 14 14:14:07 2023: Image # 3, module CorrectIlluminationApply # 8: CPU_time = 0.00 secs, Wall_time = 0.00 secs\n",
      "Tue Mar 14 14:14:07 2023: Image # 3, module CorrectIlluminationCalculate # 9: CPU_time = 3.36 secs, Wall_time = 3.32 secs\n",
      "Tue Mar 14 14:14:10 2023: Image # 3, module CorrectIlluminationApply # 10: CPU_time = 0.00 secs, Wall_time = 0.00 secs\n",
      "Tue Mar 14 14:14:11 2023: Image # 3, module SaveImages # 11: CPU_time = 0.14 secs, Wall_time = 0.13 secs\n",
      "Tue Mar 14 14:14:11 2023: Image # 3, module SaveImages # 12: CPU_time = 0.09 secs, Wall_time = 0.09 secs\n",
      "Tue Mar 14 14:14:11 2023: Image # 3, module SaveImages # 13: CPU_time = 0.09 secs, Wall_time = 0.09 secs\n",
      "Tue Mar 14 14:14:11 2023: Image # 4, module Images # 1: CPU_time = 0.00 secs, Wall_time = 0.00 secs\n",
      "Tue Mar 14 14:14:11 2023: Image # 4, module Metadata # 2: CPU_time = 0.00 secs, Wall_time = 0.00 secs\n",
      "Tue Mar 14 14:14:11 2023: Image # 4, module NamesAndTypes # 3: CPU_time = 0.41 secs, Wall_time = 0.16 secs\n",
      "Tue Mar 14 14:14:11 2023: Image # 4, module Groups # 4: CPU_time = 0.00 secs, Wall_time = 0.00 secs\n",
      "Tue Mar 14 14:14:11 2023: Image # 4, module CorrectIlluminationCalculate # 5: CPU_time = 1.50 secs, Wall_time = 1.24 secs\n",
      "Tue Mar 14 14:14:12 2023: Image # 4, module CorrectIlluminationApply # 6: CPU_time = 0.00 secs, Wall_time = 0.00 secs\n"
     ]
    }
   ],
   "source": [
    "for plate in plates_info_dictionary:\n",
    "    # access the plate info stored in the dictionary\n",
    "    plate_info = plates_info_dictionary[plate]\n",
    "    path_to_output=plate_info[\"path_to_output\"]\n",
    "    path_to_images=plate_info[\"path_to_images\"]\n",
    "\n",
    "    # run illumination correction pipeline and save images\n",
    "    cp_utils.run_cellprofiler(\n",
    "        path_to_pipeline=path_to_pipeline,\n",
    "        path_to_output=path_to_output,\n",
    "        path_to_images=path_to_images,\n",
    "        # these variables are turned off for illum pipeline\n",
    "        sqlite_name=None,\n",
    "        analysis_run=False,\n",
    "    )"
   ]
  }
 ],
 "metadata": {
  "kernelspec": {
   "display_name": "nf1_cellpainting_data",
   "language": "python",
   "name": "python3"
  },
  "language_info": {
   "codemirror_mode": {
    "name": "ipython",
    "version": 3
   },
   "file_extension": ".py",
   "mimetype": "text/x-python",
   "name": "python",
   "nbconvert_exporter": "python",
   "pygments_lexer": "ipython3",
   "version": "3.8.15"
  },
  "orig_nbformat": 4
 },
 "nbformat": 4,
 "nbformat_minor": 2
}
