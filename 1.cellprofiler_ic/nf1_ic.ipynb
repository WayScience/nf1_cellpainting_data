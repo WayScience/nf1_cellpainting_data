{
 "cells": [
  {
   "attachments": {},
   "cell_type": "markdown",
   "metadata": {},
   "source": [
    "# Correct illumination and save images for each plate using CellProfiler"
   ]
  },
  {
   "attachments": {},
   "cell_type": "markdown",
   "metadata": {},
   "source": [
    "## Import libraries"
   ]
  },
  {
   "cell_type": "code",
   "execution_count": 1,
   "metadata": {},
   "outputs": [],
   "source": [
    "import pathlib\n",
    "\n",
    "import sys\n",
    "sys.path.append(\"../\")\n",
    "from utils import cp_utils"
   ]
  },
  {
   "attachments": {},
   "cell_type": "markdown",
   "metadata": {},
   "source": [
    "## Set paths for each plate"
   ]
  },
  {
   "cell_type": "code",
   "execution_count": 2,
   "metadata": {},
   "outputs": [],
   "source": [
    "path_to_pipeline = pathlib.Path(\"NF1_illum.cppipe\").absolute()\n",
    "\n",
    "plates_info_dictionary = {\n",
    "    \"Plate_1\": {\n",
    "        \"path_to_images\": pathlib.Path(\"../0.download_data/Plate_1/\").absolute(),\n",
    "        \"path_to_output\": pathlib.Path(\"Corrected_Plate_1\").absolute(),\n",
    "    },\n",
    "    \"Plate_2\": {\n",
    "        \"path_to_images\": pathlib.Path(\"../0.download_data/Plate_2/\").absolute(),\n",
    "        \"path_to_output\": pathlib.Path(\"Corrected_Plate_2\").absolute(),\n",
    "    },\n",
    "}"
   ]
  },
  {
   "attachments": {},
   "cell_type": "markdown",
   "metadata": {},
   "source": [
    "## Run illumination correction pipeline on each plate"
   ]
  },
  {
   "cell_type": "code",
   "execution_count": 3,
   "metadata": {},
   "outputs": [
    {
     "name": "stdout",
     "output_type": "stream",
     "text": [
      "Correcting Plate_1\n",
      "Correcting Plate_2\n"
     ]
    }
   ],
   "source": [
    "# run through each plate with each set of paths based on dictionary\n",
    "for plate, info in plates_info_dictionary.items():\n",
    "    path_to_output = info[\"path_to_output\"]\n",
    "    path_to_images = info[\"path_to_images\"]\n",
    "    print(f\"Correcting {plate}\")\n",
    "\n",
    "    # run illumination correction pipeline and save images\n",
    "    cp_utils.run_cellprofiler(\n",
    "        path_to_pipeline=path_to_pipeline,\n",
    "        path_to_output=path_to_output,\n",
    "        path_to_images=path_to_images,\n",
    "        # these variables are turned off for illum pipeline\n",
    "        sqlite_name=None,\n",
    "        analysis_run=False,\n",
    "    )"
   ]
  }
 ],
 "metadata": {
  "kernelspec": {
   "display_name": "nf1_cellpainting_data",
   "language": "python",
   "name": "python3"
  },
  "language_info": {
   "codemirror_mode": {
    "name": "ipython",
    "version": 3
   },
   "file_extension": ".py",
   "mimetype": "text/x-python",
   "name": "python",
   "nbconvert_exporter": "python",
   "pygments_lexer": "ipython3",
   "version": "3.8.15"
  },
  "orig_nbformat": 4
 },
 "nbformat": 4,
 "nbformat_minor": 2
}
