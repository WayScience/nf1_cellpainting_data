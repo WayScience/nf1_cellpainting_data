{
 "cells": [
  {
   "attachments": {},
   "cell_type": "markdown",
   "metadata": {},
   "source": [
    "# Perform segmentation and feature extraction for each plate using CellProfiler Parallel"
   ]
  },
  {
   "attachments": {},
   "cell_type": "markdown",
   "metadata": {},
   "source": [
    "## Import libraries"
   ]
  },
  {
   "cell_type": "code",
   "execution_count": 1,
   "metadata": {},
   "outputs": [],
   "source": [
    "import pathlib\n",
    "import pprint\n",
    "\n",
    "import sys\n",
    "\n",
    "sys.path.append(\"../utils\")\n",
    "import cp_parallel"
   ]
  },
  {
   "attachments": {},
   "cell_type": "markdown",
   "metadata": {},
   "source": [
    "## Set paths and variables"
   ]
  },
  {
   "cell_type": "code",
   "execution_count": 2,
   "metadata": {},
   "outputs": [],
   "source": [
    "# set the run type for the parallelization\n",
    "run_name = \"analysis\"\n",
    "\n",
    "# set main output dir for all plates\n",
    "output_dir = pathlib.Path(\"./analysis_output\")\n",
    "output_dir.mkdir(exist_ok=True)\n",
    "\n",
    "# directory where images are located within folders\n",
    "images_dir = pathlib.Path(\"../1.cellprofiler_ic/Corrected_Images/\")\n",
    "\n",
    "# list for plate names based on folders to use to create dictionary\n",
    "plate_names = []\n",
    "# iterate through 0.download_data and append plate names from folder names that contain image data from that plate\n",
    "for file_path in pathlib.Path(\"../0.download_data/\").iterdir():\n",
    "    if str(file_path.stem).startswith(\"Plate\"):\n",
    "        plate_names.append(str(file_path.stem))"
   ]
  },
  {
   "cell_type": "markdown",
   "metadata": {},
   "source": [
    "## Create dictionary with all info for each plate"
   ]
  },
  {
   "cell_type": "code",
   "execution_count": 3,
   "metadata": {},
   "outputs": [
    {
     "name": "stdout",
     "output_type": "stream",
     "text": [
      "{   'Plate_1': {   'path_to_images': PosixPath('/home/jenna/nf1_cellpainting_data/1.cellprofiler_ic/Corrected_Images/Corrected_Plate_1'),\n",
      "                   'path_to_output': PosixPath('analysis_output/Plate_1'),\n",
      "                   'path_to_pipeline': PosixPath('/home/jenna/nf1_cellpainting_data/2.cellprofiler_analysis/NF1_analysis_3channel.cppipe')},\n",
      "    'Plate_2': {   'path_to_images': PosixPath('/home/jenna/nf1_cellpainting_data/1.cellprofiler_ic/Corrected_Images/Corrected_Plate_2'),\n",
      "                   'path_to_output': PosixPath('analysis_output/Plate_2'),\n",
      "                   'path_to_pipeline': PosixPath('/home/jenna/nf1_cellpainting_data/2.cellprofiler_analysis/NF1_analysis_3channel.cppipe')},\n",
      "    'Plate_3': {   'path_to_images': PosixPath('/home/jenna/nf1_cellpainting_data/1.cellprofiler_ic/Corrected_Images/Corrected_Plate_3'),\n",
      "                   'path_to_output': PosixPath('analysis_output/Plate_3'),\n",
      "                   'path_to_pipeline': PosixPath('/home/jenna/nf1_cellpainting_data/2.cellprofiler_analysis/NF1_analysis_4channel.cppipe')},\n",
      "    'Plate_3_prime': {   'path_to_images': PosixPath('/home/jenna/nf1_cellpainting_data/1.cellprofiler_ic/Corrected_Images/Corrected_Plate_3_prime'),\n",
      "                         'path_to_output': PosixPath('analysis_output/Plate_3_prime'),\n",
      "                         'path_to_pipeline': PosixPath('/home/jenna/nf1_cellpainting_data/2.cellprofiler_analysis/NF1_analysis_4channel.cppipe')},\n",
      "    'Plate_4': {   'path_to_images': PosixPath('/home/jenna/nf1_cellpainting_data/1.cellprofiler_ic/Corrected_Images/Corrected_Plate_4'),\n",
      "                   'path_to_output': PosixPath('analysis_output/Plate_4'),\n",
      "                   'path_to_pipeline': PosixPath('/home/jenna/nf1_cellpainting_data/2.cellprofiler_analysis/NF1_analysis_4channel.cppipe')}}\n"
     ]
    }
   ],
   "source": [
    "# create plate info dictionary with all parts of the CellProfiler CLI command to run in parallel\n",
    "plate_info_dictionary = {\n",
    "    name: {\n",
    "        \"path_to_images\": pathlib.Path(\n",
    "            list(images_dir.rglob(f\"Corrected_{name}\"))[0]\n",
    "        ).resolve(strict=True),\n",
    "        \"path_to_output\": pathlib.Path(f\"{output_dir}/{name}\"),\n",
    "    }\n",
    "    for name in plate_names\n",
    "}\n",
    "\n",
    "# iterate over the dictionary and add the path_to_pipeline specific for each plate\n",
    "for name, info in plate_info_dictionary.items():\n",
    "    # only plates 1 and 2 have 3 channels so these are the only plates that use this path\n",
    "    if name == \"Plate_1\" or name == \"Plate_2\":\n",
    "        info[\"path_to_pipeline\"] = pathlib.Path(\n",
    "            f\"./NF1_analysis_3channel.cppipe\"\n",
    "        ).resolve(strict=True)\n",
    "    # all other plates have 4 channels and will use that specific pipeline\n",
    "    else:\n",
    "        info[\"path_to_pipeline\"] = pathlib.Path(\n",
    "            f\"./NF1_analysis_4channel.cppipe\"\n",
    "        ).resolve(strict=True)\n",
    "\n",
    "# view the dictionary to assess that all info is added correctly\n",
    "pprint.pprint(plate_info_dictionary, indent=4)"
   ]
  },
  {
   "attachments": {},
   "cell_type": "markdown",
   "metadata": {},
   "source": [
    "## Run analysis pipeline on each plate in parallel\n",
    "\n",
    "This cell is not finished to completion due to how long it would take. It is ran in the python file instead."
   ]
  },
  {
   "cell_type": "code",
   "execution_count": 4,
   "metadata": {},
   "outputs": [
    {
     "ename": "KeyboardInterrupt",
     "evalue": "",
     "output_type": "error",
     "traceback": [
      "\u001b[0;31m---------------------------------------------------------------------------\u001b[0m",
      "\u001b[0;31mKeyboardInterrupt\u001b[0m                         Traceback (most recent call last)",
      "Cell \u001b[0;32mIn[4], line 1\u001b[0m\n\u001b[0;32m----> 1\u001b[0m cp_parallel\u001b[39m.\u001b[39;49mrun_cellprofiler_parallel(\n\u001b[1;32m      2\u001b[0m     plate_info_dictionary\u001b[39m=\u001b[39;49mplate_info_dictionary, run_name\u001b[39m=\u001b[39;49mrun_name\n\u001b[1;32m      3\u001b[0m )\n",
      "File \u001b[0;32m~/nf1_cellpainting_data/2.cellprofiler_analysis/../utils/cp_parallel.py:119\u001b[0m, in \u001b[0;36mrun_cellprofiler_parallel\u001b[0;34m(plate_info_dictionary, run_name)\u001b[0m\n\u001b[1;32m    109\u001b[0m futures: List[Future] \u001b[39m=\u001b[39m [\n\u001b[1;32m    110\u001b[0m     executor\u001b[39m.\u001b[39msubmit(\n\u001b[1;32m    111\u001b[0m         subprocess\u001b[39m.\u001b[39mrun,\n\u001b[0;32m   (...)\u001b[0m\n\u001b[1;32m    115\u001b[0m     \u001b[39mfor\u001b[39;00m command \u001b[39min\u001b[39;00m commands\n\u001b[1;32m    116\u001b[0m ]\n\u001b[1;32m    118\u001b[0m \u001b[39m# the list of CompletedProcesses holds all the information from the CellProfiler run\u001b[39;00m\n\u001b[0;32m--> 119\u001b[0m results: List[subprocess\u001b[39m.\u001b[39mCompletedProcess] \u001b[39m=\u001b[39m [future\u001b[39m.\u001b[39mresult() \u001b[39mfor\u001b[39;00m future \u001b[39min\u001b[39;00m futures]\n\u001b[1;32m    121\u001b[0m \u001b[39mprint\u001b[39m(\u001b[39m\"\u001b[39m\u001b[39mAll processes have been completed!\u001b[39m\u001b[39m\"\u001b[39m)\n\u001b[1;32m    123\u001b[0m \u001b[39m# for each process, confirm that the process completed succesfully and return a log file\u001b[39;00m\n",
      "File \u001b[0;32m~/nf1_cellpainting_data/2.cellprofiler_analysis/../utils/cp_parallel.py:119\u001b[0m, in \u001b[0;36m<listcomp>\u001b[0;34m(.0)\u001b[0m\n\u001b[1;32m    109\u001b[0m futures: List[Future] \u001b[39m=\u001b[39m [\n\u001b[1;32m    110\u001b[0m     executor\u001b[39m.\u001b[39msubmit(\n\u001b[1;32m    111\u001b[0m         subprocess\u001b[39m.\u001b[39mrun,\n\u001b[0;32m   (...)\u001b[0m\n\u001b[1;32m    115\u001b[0m     \u001b[39mfor\u001b[39;00m command \u001b[39min\u001b[39;00m commands\n\u001b[1;32m    116\u001b[0m ]\n\u001b[1;32m    118\u001b[0m \u001b[39m# the list of CompletedProcesses holds all the information from the CellProfiler run\u001b[39;00m\n\u001b[0;32m--> 119\u001b[0m results: List[subprocess\u001b[39m.\u001b[39mCompletedProcess] \u001b[39m=\u001b[39m [future\u001b[39m.\u001b[39;49mresult() \u001b[39mfor\u001b[39;00m future \u001b[39min\u001b[39;00m futures]\n\u001b[1;32m    121\u001b[0m \u001b[39mprint\u001b[39m(\u001b[39m\"\u001b[39m\u001b[39mAll processes have been completed!\u001b[39m\u001b[39m\"\u001b[39m)\n\u001b[1;32m    123\u001b[0m \u001b[39m# for each process, confirm that the process completed succesfully and return a log file\u001b[39;00m\n",
      "File \u001b[0;32m~/anaconda3/envs/nf1_cellpainting_data/lib/python3.8/concurrent/futures/_base.py:439\u001b[0m, in \u001b[0;36mFuture.result\u001b[0;34m(self, timeout)\u001b[0m\n\u001b[1;32m    436\u001b[0m \u001b[39melif\u001b[39;00m \u001b[39mself\u001b[39m\u001b[39m.\u001b[39m_state \u001b[39m==\u001b[39m FINISHED:\n\u001b[1;32m    437\u001b[0m     \u001b[39mreturn\u001b[39;00m \u001b[39mself\u001b[39m\u001b[39m.\u001b[39m__get_result()\n\u001b[0;32m--> 439\u001b[0m \u001b[39mself\u001b[39;49m\u001b[39m.\u001b[39;49m_condition\u001b[39m.\u001b[39;49mwait(timeout)\n\u001b[1;32m    441\u001b[0m \u001b[39mif\u001b[39;00m \u001b[39mself\u001b[39m\u001b[39m.\u001b[39m_state \u001b[39min\u001b[39;00m [CANCELLED, CANCELLED_AND_NOTIFIED]:\n\u001b[1;32m    442\u001b[0m     \u001b[39mraise\u001b[39;00m CancelledError()\n",
      "File \u001b[0;32m~/anaconda3/envs/nf1_cellpainting_data/lib/python3.8/threading.py:302\u001b[0m, in \u001b[0;36mCondition.wait\u001b[0;34m(self, timeout)\u001b[0m\n\u001b[1;32m    300\u001b[0m \u001b[39mtry\u001b[39;00m:    \u001b[39m# restore state no matter what (e.g., KeyboardInterrupt)\u001b[39;00m\n\u001b[1;32m    301\u001b[0m     \u001b[39mif\u001b[39;00m timeout \u001b[39mis\u001b[39;00m \u001b[39mNone\u001b[39;00m:\n\u001b[0;32m--> 302\u001b[0m         waiter\u001b[39m.\u001b[39;49macquire()\n\u001b[1;32m    303\u001b[0m         gotit \u001b[39m=\u001b[39m \u001b[39mTrue\u001b[39;00m\n\u001b[1;32m    304\u001b[0m     \u001b[39melse\u001b[39;00m:\n",
      "\u001b[0;31mKeyboardInterrupt\u001b[0m: "
     ]
    }
   ],
   "source": [
    "cp_parallel.run_cellprofiler_parallel(\n",
    "    plate_info_dictionary=plate_info_dictionary, run_name=run_name\n",
    ")"
   ]
  }
 ],
 "metadata": {
  "kernelspec": {
   "display_name": "nf1_cellpainting_data",
   "language": "python",
   "name": "python3"
  },
  "language_info": {
   "codemirror_mode": {
    "name": "ipython",
    "version": 3
   },
   "file_extension": ".py",
   "mimetype": "text/x-python",
   "name": "python",
   "nbconvert_exporter": "python",
   "pygments_lexer": "ipython3",
   "version": "3.8.15"
  },
  "orig_nbformat": 4
 },
 "nbformat": 4,
 "nbformat_minor": 2
}
