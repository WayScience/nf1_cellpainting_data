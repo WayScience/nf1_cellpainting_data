{
 "cells": [
  {
   "cell_type": "markdown",
   "metadata": {},
   "source": [
    "# Merge single cells from CellProfiler outputs using CytoTable"
   ]
  },
  {
   "cell_type": "markdown",
   "metadata": {},
   "source": [
    "## Import libraries"
   ]
  },
  {
   "cell_type": "code",
   "execution_count": 1,
   "metadata": {},
   "outputs": [],
   "source": [
    "import sys\n",
    "import pathlib\n",
    "import yaml\n",
    "import pprint\n",
    "import pandas as pd\n",
    "\n",
    "# cytotable will merge objects from SQLite file into single cells and save as parquet file\n",
    "from cytotable import convert, presets\n",
    "\n",
    "# import utility to use function that will add single-cell count per well as a metadata column\n",
    "sys.path.append(\"../utils\")\n",
    "import extraction_utils as sc_utils"
   ]
  },
  {
   "cell_type": "markdown",
   "metadata": {},
   "source": [
    "## Set paths and variables"
   ]
  },
  {
   "cell_type": "code",
   "execution_count": 2,
   "metadata": {},
   "outputs": [
    {
     "name": "stdout",
     "output_type": "stream",
     "text": [
      "['Plate_4', 'Plate_1', 'Plate_3', 'Plate_2', 'Plate_5', 'Plate_3_prime']\n"
     ]
    }
   ],
   "source": [
    "# type of file output from CytoTable (currently only parquet)\n",
    "dest_datatype = \"parquet\"\n",
    "\n",
    "# preset configurations based on typical CellProfiler outputs\n",
    "preset = \"cellprofiler_sqlite_pycytominer\"\n",
    "\n",
    "# update preset to include site metadata and cell counts\n",
    "joins = presets.config[\"cellprofiler_sqlite_pycytominer\"][\"CONFIG_JOINS\"].replace(\n",
    "    \"Image_Metadata_Well,\",\n",
    "    \"Image_Metadata_Well, Image_Metadata_Site,\",\n",
    ")\n",
    "\n",
    "# set main output dir for all parquet files\n",
    "output_dir = pathlib.Path(\"./data/converted_data/\")\n",
    "output_dir.mkdir(exist_ok=True)\n",
    "\n",
    "# directory where SQLite files are located\n",
    "sqlite_dir = pathlib.Path(\"../2.cellprofiler_analysis/analysis_output/\")\n",
    "\n",
    "# list for plate names based on folders to use to create dictionary\n",
    "plate_names = []\n",
    "\n",
    "# iterate through 0.download_data and append plate names from folder names\n",
    "# that contain image data from that plate\n",
    "# (Note, you must first run `0.download_data/download_plates.ipynb`)\n",
    "for file_path in pathlib.Path(\"../0.download_data/\").iterdir():\n",
    "    if str(file_path.stem).startswith(\"Plate\"):\n",
    "        plate_names.append(str(file_path.stem))\n",
    "        \n",
    "print(plate_names)"
   ]
  },
  {
   "cell_type": "markdown",
   "metadata": {},
   "source": [
    "## Create dictionary with info for each plate\n",
    "\n",
    "**Note:** All paths must be string to use with CytoTable."
   ]
  },
  {
   "cell_type": "code",
   "execution_count": 3,
   "metadata": {},
   "outputs": [
    {
     "name": "stdout",
     "output_type": "stream",
     "text": [
      "{   'Plate_3': {   'dest_path': 'data/converted_data/Plate_3.parquet',\n",
      "                   'source_path': '/home/jenna/nf1_cellpainting_data/2.cellprofiler_analysis/analysis_output/Plate_3/Plate_3_nf1_analysis.sqlite'},\n",
      "    'Plate_3_prime': {   'dest_path': 'data/converted_data/Plate_3_prime.parquet',\n",
      "                         'source_path': '/home/jenna/nf1_cellpainting_data/2.cellprofiler_analysis/analysis_output/Plate_3_prime/Plate_3_prime_nf1_analysis.sqlite'},\n",
      "    'Plate_4': {   'dest_path': 'data/converted_data/Plate_4.parquet',\n",
      "                   'source_path': '/home/jenna/nf1_cellpainting_data/2.cellprofiler_analysis/analysis_output/Plate_4/Plate_4_nf1_analysis.sqlite'},\n",
      "    'Plate_5': {   'dest_path': 'data/converted_data/Plate_5.parquet',\n",
      "                   'source_path': '/home/jenna/nf1_cellpainting_data/2.cellprofiler_analysis/analysis_output/Plate_5/Plate_5_nf1_analysis.sqlite'}}\n"
     ]
    }
   ],
   "source": [
    "# create plate info dictionary with all parts of the CellProfiler CLI command to run in parallel\n",
    "plate_info_dictionary = {\n",
    "    name: {\n",
    "        \"source_path\": str(pathlib.Path(\n",
    "            list(sqlite_dir.rglob(f\"{name}_nf1_analysis.sqlite\"))[0]\n",
    "        ).resolve(strict=True)),\n",
    "        \"dest_path\": str(pathlib.Path(f\"{output_dir}/{name}.parquet\")),\n",
    "    }\n",
    "    for name in plate_names if not name in [\"Plate_1\", \"Plate_2\"]  # focus on non-pilot plates\n",
    "}\n",
    "\n",
    "# view the dictionary to assess that all info is added correctly\n",
    "pprint.pprint(plate_info_dictionary, indent=4)"
   ]
  },
  {
   "cell_type": "markdown",
   "metadata": {},
   "source": [
    "## Merge objects to single cells and convert SQLite to parquet file + add single cell metadata"
   ]
  },
  {
   "cell_type": "code",
   "execution_count": 4,
   "metadata": {},
   "outputs": [
    {
     "name": "stdout",
     "output_type": "stream",
     "text": [
      "Performing merge single cells and conversion on Plate_4!\n",
      "Merged and converted Plate_4.parquet!\n"
     ]
    },
    {
     "name": "stderr",
     "output_type": "stream",
     "text": [
      "Reusing previously loaded Parsl configuration.\n"
     ]
    },
    {
     "name": "stdout",
     "output_type": "stream",
     "text": [
      "Added single cell count as metadata to Plate_4.parquet!\n",
      "Performing merge single cells and conversion on Plate_3!\n",
      "Merged and converted Plate_3.parquet!\n"
     ]
    },
    {
     "name": "stderr",
     "output_type": "stream",
     "text": [
      "Reusing previously loaded Parsl configuration.\n"
     ]
    },
    {
     "name": "stdout",
     "output_type": "stream",
     "text": [
      "Added single cell count as metadata to Plate_3.parquet!\n",
      "Performing merge single cells and conversion on Plate_5!\n",
      "Merged and converted Plate_5.parquet!\n"
     ]
    },
    {
     "name": "stderr",
     "output_type": "stream",
     "text": [
      "Reusing previously loaded Parsl configuration.\n"
     ]
    },
    {
     "name": "stdout",
     "output_type": "stream",
     "text": [
      "Added single cell count as metadata to Plate_5.parquet!\n",
      "Performing merge single cells and conversion on Plate_3_prime!\n",
      "Merged and converted Plate_3_prime.parquet!\n",
      "Added single cell count as metadata to Plate_3_prime.parquet!\n"
     ]
    }
   ],
   "source": [
    "# run through each run with each set of paths based on dictionary\n",
    "for plate, info in plate_info_dictionary.items():\n",
    "    source_path = info[\"source_path\"]\n",
    "    dest_path = info[\"dest_path\"]\n",
    "    \n",
    "    print(f\"Performing merge single cells and conversion on {plate}!\")\n",
    "\n",
    "    # merge single cells and output as parquet file\n",
    "    convert(\n",
    "        source_path=source_path,\n",
    "        dest_path=dest_path,\n",
    "        dest_datatype=dest_datatype,\n",
    "        preset=preset,\n",
    "        joins=joins,\n",
    "    )\n",
    "    print(f\"Merged and converted {pathlib.Path(dest_path).name}!\")\n",
    "\n",
    "    # add single cell count per well as metadata column to parquet file and save back to same path\n",
    "    sc_utils.add_sc_count_metadata_file(\n",
    "        data_path=dest_path, well_column_name=\"Image_Metadata_Well\", file_type=\"parquet\"\n",
    "    )\n",
    "    \n",
    "    print(f\"Added single cell count as metadata to {pathlib.Path(dest_path).name}!\")"
   ]
  },
  {
   "cell_type": "markdown",
   "metadata": {},
   "source": [
    "## Update the files to remove NA rows added as artifacts of CytoTable"
   ]
  },
  {
   "cell_type": "code",
   "execution_count": 5,
   "metadata": {},
   "outputs": [],
   "source": [
    "for file_path in output_dir.iterdir():\n",
    "    if file_path.stem not in [\"Plate_1\", \"Plate_2\"]:\n",
    "        # Load the DataFrame from the Parquet file\n",
    "        df = pd.read_parquet(file_path)\n",
    "\n",
    "        # If any, drop rows where \"Metadata_ImageNumber\" is NaN (artifact of cytotable)\n",
    "        df = df.dropna(subset=[\"Metadata_ImageNumber\"])\n",
    "\n",
    "        # Columns to move to the front\n",
    "        columns_to_move = ['Nuclei_Location_Center_X', 'Nuclei_Location_Center_Y', 'Cells_Location_Center_X', 'Cells_Location_Center_Y']\n",
    "\n",
    "        # Rearrange columns and add \"Metadata\" prefix in one line\n",
    "        df = (df[columns_to_move + [col for col in df.columns if col not in columns_to_move]]\n",
    "                    .rename(columns=lambda col: 'Metadata_' + col if col in columns_to_move else col))\n",
    "\n",
    "        # Save the processed DataFrame as Parquet in the same path\n",
    "        df.to_parquet(file_path, index=False)"
   ]
  },
  {
   "cell_type": "markdown",
   "metadata": {},
   "source": [
    "### Check if converted data looks correct"
   ]
  },
  {
   "cell_type": "code",
   "execution_count": 6,
   "metadata": {},
   "outputs": [
    {
     "name": "stdout",
     "output_type": "stream",
     "text": [
      "(7308, 2313)\n"
     ]
    },
    {
     "data": {
      "text/html": [
       "<div>\n",
       "<style scoped>\n",
       "    .dataframe tbody tr th:only-of-type {\n",
       "        vertical-align: middle;\n",
       "    }\n",
       "\n",
       "    .dataframe tbody tr th {\n",
       "        vertical-align: top;\n",
       "    }\n",
       "\n",
       "    .dataframe thead th {\n",
       "        text-align: right;\n",
       "    }\n",
       "</style>\n",
       "<table border=\"1\" class=\"dataframe\">\n",
       "  <thead>\n",
       "    <tr style=\"text-align: right;\">\n",
       "      <th></th>\n",
       "      <th>Metadata_Nuclei_Location_Center_X</th>\n",
       "      <th>Metadata_Nuclei_Location_Center_Y</th>\n",
       "      <th>Metadata_Cells_Location_Center_X</th>\n",
       "      <th>Metadata_Cells_Location_Center_Y</th>\n",
       "      <th>Metadata_ImageNumber</th>\n",
       "      <th>Image_Metadata_Plate</th>\n",
       "      <th>Metadata_number_of_singlecells</th>\n",
       "      <th>Image_Metadata_Site</th>\n",
       "      <th>Image_Metadata_Well</th>\n",
       "      <th>Metadata_Cells_Number_Object_Number</th>\n",
       "      <th>...</th>\n",
       "      <th>Nuclei_Texture_Variance_DAPI_3_02_256</th>\n",
       "      <th>Nuclei_Texture_Variance_DAPI_3_03_256</th>\n",
       "      <th>Nuclei_Texture_Variance_GFP_3_00_256</th>\n",
       "      <th>Nuclei_Texture_Variance_GFP_3_01_256</th>\n",
       "      <th>Nuclei_Texture_Variance_GFP_3_02_256</th>\n",
       "      <th>Nuclei_Texture_Variance_GFP_3_03_256</th>\n",
       "      <th>Nuclei_Texture_Variance_RFP_3_00_256</th>\n",
       "      <th>Nuclei_Texture_Variance_RFP_3_01_256</th>\n",
       "      <th>Nuclei_Texture_Variance_RFP_3_02_256</th>\n",
       "      <th>Nuclei_Texture_Variance_RFP_3_03_256</th>\n",
       "    </tr>\n",
       "  </thead>\n",
       "  <tbody>\n",
       "    <tr>\n",
       "      <th>0</th>\n",
       "      <td>993.576031</td>\n",
       "      <td>631.322487</td>\n",
       "      <td>1001.623945</td>\n",
       "      <td>583.874355</td>\n",
       "      <td>1.0</td>\n",
       "      <td>Plate_4</td>\n",
       "      <td>83</td>\n",
       "      <td>10</td>\n",
       "      <td>B10</td>\n",
       "      <td>4.0</td>\n",
       "      <td>...</td>\n",
       "      <td>1281.874186</td>\n",
       "      <td>1257.435761</td>\n",
       "      <td>65.965695</td>\n",
       "      <td>52.068222</td>\n",
       "      <td>50.445780</td>\n",
       "      <td>51.851812</td>\n",
       "      <td>425.319446</td>\n",
       "      <td>409.351012</td>\n",
       "      <td>418.021018</td>\n",
       "      <td>425.068520</td>\n",
       "    </tr>\n",
       "    <tr>\n",
       "      <th>1</th>\n",
       "      <td>851.475825</td>\n",
       "      <td>698.344141</td>\n",
       "      <td>854.813596</td>\n",
       "      <td>712.334404</td>\n",
       "      <td>1.0</td>\n",
       "      <td>Plate_4</td>\n",
       "      <td>83</td>\n",
       "      <td>10</td>\n",
       "      <td>B10</td>\n",
       "      <td>5.0</td>\n",
       "      <td>...</td>\n",
       "      <td>1085.750460</td>\n",
       "      <td>1113.144205</td>\n",
       "      <td>139.037112</td>\n",
       "      <td>140.802921</td>\n",
       "      <td>141.819546</td>\n",
       "      <td>149.091779</td>\n",
       "      <td>512.879573</td>\n",
       "      <td>499.756267</td>\n",
       "      <td>513.447060</td>\n",
       "      <td>507.419635</td>\n",
       "    </tr>\n",
       "    <tr>\n",
       "      <th>2</th>\n",
       "      <td>592.680236</td>\n",
       "      <td>384.974721</td>\n",
       "      <td>595.042565</td>\n",
       "      <td>410.149194</td>\n",
       "      <td>2.0</td>\n",
       "      <td>Plate_4</td>\n",
       "      <td>83</td>\n",
       "      <td>11</td>\n",
       "      <td>B10</td>\n",
       "      <td>2.0</td>\n",
       "      <td>...</td>\n",
       "      <td>633.124457</td>\n",
       "      <td>642.170387</td>\n",
       "      <td>190.690537</td>\n",
       "      <td>173.126428</td>\n",
       "      <td>170.503677</td>\n",
       "      <td>178.200219</td>\n",
       "      <td>401.039364</td>\n",
       "      <td>412.623493</td>\n",
       "      <td>420.041994</td>\n",
       "      <td>402.738604</td>\n",
       "    </tr>\n",
       "    <tr>\n",
       "      <th>3</th>\n",
       "      <td>1046.634989</td>\n",
       "      <td>478.314255</td>\n",
       "      <td>1058.060509</td>\n",
       "      <td>512.748667</td>\n",
       "      <td>2.0</td>\n",
       "      <td>Plate_4</td>\n",
       "      <td>83</td>\n",
       "      <td>11</td>\n",
       "      <td>B10</td>\n",
       "      <td>3.0</td>\n",
       "      <td>...</td>\n",
       "      <td>894.732816</td>\n",
       "      <td>829.273862</td>\n",
       "      <td>142.997128</td>\n",
       "      <td>131.232052</td>\n",
       "      <td>126.981214</td>\n",
       "      <td>128.412295</td>\n",
       "      <td>357.660331</td>\n",
       "      <td>351.831903</td>\n",
       "      <td>351.386580</td>\n",
       "      <td>357.795596</td>\n",
       "    </tr>\n",
       "    <tr>\n",
       "      <th>4</th>\n",
       "      <td>723.749813</td>\n",
       "      <td>597.963351</td>\n",
       "      <td>735.217695</td>\n",
       "      <td>601.070032</td>\n",
       "      <td>2.0</td>\n",
       "      <td>Plate_4</td>\n",
       "      <td>83</td>\n",
       "      <td>11</td>\n",
       "      <td>B10</td>\n",
       "      <td>4.0</td>\n",
       "      <td>...</td>\n",
       "      <td>2054.657442</td>\n",
       "      <td>2025.967932</td>\n",
       "      <td>2151.383916</td>\n",
       "      <td>1980.111635</td>\n",
       "      <td>2106.078983</td>\n",
       "      <td>2153.802496</td>\n",
       "      <td>1115.200657</td>\n",
       "      <td>1076.123098</td>\n",
       "      <td>1048.707100</td>\n",
       "      <td>1022.242934</td>\n",
       "    </tr>\n",
       "  </tbody>\n",
       "</table>\n",
       "<p>5 rows × 2313 columns</p>\n",
       "</div>"
      ],
      "text/plain": [
       "   Metadata_Nuclei_Location_Center_X  Metadata_Nuclei_Location_Center_Y  \\\n",
       "0                         993.576031                         631.322487   \n",
       "1                         851.475825                         698.344141   \n",
       "2                         592.680236                         384.974721   \n",
       "3                        1046.634989                         478.314255   \n",
       "4                         723.749813                         597.963351   \n",
       "\n",
       "   Metadata_Cells_Location_Center_X  Metadata_Cells_Location_Center_Y  \\\n",
       "0                       1001.623945                        583.874355   \n",
       "1                        854.813596                        712.334404   \n",
       "2                        595.042565                        410.149194   \n",
       "3                       1058.060509                        512.748667   \n",
       "4                        735.217695                        601.070032   \n",
       "\n",
       "   Metadata_ImageNumber Image_Metadata_Plate  Metadata_number_of_singlecells  \\\n",
       "0                   1.0              Plate_4                              83   \n",
       "1                   1.0              Plate_4                              83   \n",
       "2                   2.0              Plate_4                              83   \n",
       "3                   2.0              Plate_4                              83   \n",
       "4                   2.0              Plate_4                              83   \n",
       "\n",
       "  Image_Metadata_Site Image_Metadata_Well  \\\n",
       "0                  10                 B10   \n",
       "1                  10                 B10   \n",
       "2                  11                 B10   \n",
       "3                  11                 B10   \n",
       "4                  11                 B10   \n",
       "\n",
       "   Metadata_Cells_Number_Object_Number  ...  \\\n",
       "0                                  4.0  ...   \n",
       "1                                  5.0  ...   \n",
       "2                                  2.0  ...   \n",
       "3                                  3.0  ...   \n",
       "4                                  4.0  ...   \n",
       "\n",
       "   Nuclei_Texture_Variance_DAPI_3_02_256  \\\n",
       "0                            1281.874186   \n",
       "1                            1085.750460   \n",
       "2                             633.124457   \n",
       "3                             894.732816   \n",
       "4                            2054.657442   \n",
       "\n",
       "   Nuclei_Texture_Variance_DAPI_3_03_256  \\\n",
       "0                            1257.435761   \n",
       "1                            1113.144205   \n",
       "2                             642.170387   \n",
       "3                             829.273862   \n",
       "4                            2025.967932   \n",
       "\n",
       "   Nuclei_Texture_Variance_GFP_3_00_256  Nuclei_Texture_Variance_GFP_3_01_256  \\\n",
       "0                             65.965695                             52.068222   \n",
       "1                            139.037112                            140.802921   \n",
       "2                            190.690537                            173.126428   \n",
       "3                            142.997128                            131.232052   \n",
       "4                           2151.383916                           1980.111635   \n",
       "\n",
       "   Nuclei_Texture_Variance_GFP_3_02_256  Nuclei_Texture_Variance_GFP_3_03_256  \\\n",
       "0                             50.445780                             51.851812   \n",
       "1                            141.819546                            149.091779   \n",
       "2                            170.503677                            178.200219   \n",
       "3                            126.981214                            128.412295   \n",
       "4                           2106.078983                           2153.802496   \n",
       "\n",
       "   Nuclei_Texture_Variance_RFP_3_00_256  Nuclei_Texture_Variance_RFP_3_01_256  \\\n",
       "0                            425.319446                            409.351012   \n",
       "1                            512.879573                            499.756267   \n",
       "2                            401.039364                            412.623493   \n",
       "3                            357.660331                            351.831903   \n",
       "4                           1115.200657                           1076.123098   \n",
       "\n",
       "   Nuclei_Texture_Variance_RFP_3_02_256  Nuclei_Texture_Variance_RFP_3_03_256  \n",
       "0                            418.021018                            425.068520  \n",
       "1                            513.447060                            507.419635  \n",
       "2                            420.041994                            402.738604  \n",
       "3                            351.386580                            357.795596  \n",
       "4                           1048.707100                           1022.242934  \n",
       "\n",
       "[5 rows x 2313 columns]"
      ]
     },
     "execution_count": 6,
     "metadata": {},
     "output_type": "execute_result"
    }
   ],
   "source": [
    "converted_df = pd.read_parquet(plate_info_dictionary[\"Plate_4\"][\"dest_path\"])\n",
    "\n",
    "print(converted_df.shape)\n",
    "converted_df.head()"
   ]
  },
  {
   "cell_type": "markdown",
   "metadata": {},
   "source": [
    "## Write dictionary to yaml file for use in downstream steps"
   ]
  },
  {
   "cell_type": "code",
   "execution_count": 7,
   "metadata": {},
   "outputs": [],
   "source": [
    "dictionary_path = pathlib.Path(\"./plate_info_dictionary.yaml\")\n",
    "with open(dictionary_path, 'w') as file:\n",
    "    yaml.dump(plate_info_dictionary, file)"
   ]
  }
 ],
 "metadata": {
  "kernelspec": {
   "display_name": "Python 3 (ipykernel)",
   "language": "python",
   "name": "python3"
  },
  "language_info": {
   "codemirror_mode": {
    "name": "ipython",
    "version": 3
   },
   "file_extension": ".py",
   "mimetype": "text/x-python",
   "name": "python",
   "nbconvert_exporter": "python",
   "pygments_lexer": "ipython3",
   "version": "3.8.18"
  }
 },
 "nbformat": 4,
 "nbformat_minor": 4
}
