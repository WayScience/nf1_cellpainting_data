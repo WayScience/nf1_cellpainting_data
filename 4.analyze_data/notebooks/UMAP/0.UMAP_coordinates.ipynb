{
 "cells": [
  {
   "cell_type": "markdown",
   "metadata": {},
   "source": [
    "# Generate UMAP coordinates for each plate"
   ]
  },
  {
   "cell_type": "markdown",
   "metadata": {},
   "source": [
    "## Import libraries"
   ]
  },
  {
   "cell_type": "code",
   "execution_count": 1,
   "metadata": {},
   "outputs": [],
   "source": [
    "import glob\n",
    "import pathlib\n",
    "import pandas as pd\n",
    "import umap\n",
    "\n",
    "from pycytominer import feature_select\n",
    "from pycytominer.cyto_utils import infer_cp_features\n"
   ]
  },
  {
   "cell_type": "markdown",
   "metadata": {},
   "source": [
    "## Set constants"
   ]
  },
  {
   "cell_type": "code",
   "execution_count": 2,
   "metadata": {},
   "outputs": [],
   "source": [
    "# Set constants\n",
    "umap_random_seed = 1234\n",
    "umap_n_components = 2\n",
    "\n",
    "output_dir = pathlib.Path(\"results\")\n",
    "output_dir.mkdir(parents=True, exist_ok=True)\n"
   ]
  },
  {
   "cell_type": "markdown",
   "metadata": {},
   "source": [
    "## Create list of paths to feature selected data per plate"
   ]
  },
  {
   "cell_type": "code",
   "execution_count": 3,
   "metadata": {},
   "outputs": [
    {
     "data": {
      "text/plain": [
       "['../../../3.processing_features/data/single_cell_profiles/Plate_4_sc_feature_selected.parquet',\n",
       " '../../../3.processing_features/data/single_cell_profiles/Plate_1_sc_feature_selected.parquet',\n",
       " '../../../3.processing_features/data/single_cell_profiles/Plate_2_sc_feature_selected.parquet',\n",
       " '../../../3.processing_features/data/single_cell_profiles/Plate_3_prime_sc_feature_selected.parquet',\n",
       " '../../../3.processing_features/data/single_cell_profiles/Plate_3_sc_feature_selected.parquet']"
      ]
     },
     "execution_count": 3,
     "metadata": {},
     "output_type": "execute_result"
    }
   ],
   "source": [
    "# Set input paths\n",
    "data_dir = pathlib.Path(\"../../../3.processing_features/data/single_cell_profiles/\")\n",
    "\n",
    "# Select only the feature selected files\n",
    "file_suffix = \"*sc_feature_selected.parquet\"\n",
    "\n",
    "# Obtain file paths for all feature selected plates\n",
    "fs_files = glob.glob(f\"{data_dir}/{file_suffix}\")\n",
    "fs_files\n"
   ]
  },
  {
   "cell_type": "code",
   "execution_count": 4,
   "metadata": {},
   "outputs": [
    {
     "name": "stdout",
     "output_type": "stream",
     "text": [
      "dict_keys(['Plate_4_sc_feature_selected.parquet', 'Plate_1_sc_feature_selected.parquet', 'Plate_2_sc_feature_selected.parquet', 'Plate_3_prime_sc_feature_selected.parquet', 'Plate_3_sc_feature_selected.parquet'])\n"
     ]
    },
    {
     "data": {
      "text/plain": [
       "[(7502, 1170), (241, 849), (1714, 856), (14495, 1137), (18503, 1166)]"
      ]
     },
     "execution_count": 4,
     "metadata": {},
     "output_type": "execute_result"
    }
   ],
   "source": [
    "# Load feature data into a dictionary, keyed on plate name\n",
    "cp_dfs = {x.split(\"/\")[-1]: pd.read_parquet(x) for x in fs_files}\n",
    "\n",
    "# Print out useful information about each dataset\n",
    "print(cp_dfs.keys())\n",
    "[cp_dfs[x].shape for x in cp_dfs]\n"
   ]
  },
  {
   "cell_type": "markdown",
   "metadata": {},
   "source": [
    "## Generate UMAP coordinates for each plate\n",
    "\n",
    "**Note:** Only metadata that is common between plates are included in final data frame."
   ]
  },
  {
   "cell_type": "code",
   "execution_count": 5,
   "metadata": {},
   "outputs": [
    {
     "name": "stderr",
     "output_type": "stream",
     "text": [
      "/Users/tomkinsj/miniconda3/envs/python_analysis_nf1/lib/python3.9/site-packages/umap/umap_.py:1943: UserWarning: n_jobs value -1 overridden to 1 by setting random_state. Use no seed for parallelism.\n",
      "  warn(f\"n_jobs value {self.n_jobs} overridden to 1 by setting random_state. Use no seed for parallelism.\")\n"
     ]
    },
    {
     "name": "stdout",
     "output_type": "stream",
     "text": [
      "(7502, 2)\n"
     ]
    },
    {
     "name": "stderr",
     "output_type": "stream",
     "text": [
      "/Users/tomkinsj/miniconda3/envs/python_analysis_nf1/lib/python3.9/site-packages/umap/umap_.py:1943: UserWarning: n_jobs value -1 overridden to 1 by setting random_state. Use no seed for parallelism.\n",
      "  warn(f\"n_jobs value {self.n_jobs} overridden to 1 by setting random_state. Use no seed for parallelism.\")\n"
     ]
    },
    {
     "name": "stdout",
     "output_type": "stream",
     "text": [
      "(241, 2)\n"
     ]
    },
    {
     "name": "stderr",
     "output_type": "stream",
     "text": [
      "/Users/tomkinsj/miniconda3/envs/python_analysis_nf1/lib/python3.9/site-packages/umap/umap_.py:1943: UserWarning: n_jobs value -1 overridden to 1 by setting random_state. Use no seed for parallelism.\n",
      "  warn(f\"n_jobs value {self.n_jobs} overridden to 1 by setting random_state. Use no seed for parallelism.\")\n"
     ]
    },
    {
     "name": "stdout",
     "output_type": "stream",
     "text": [
      "(1714, 2)\n"
     ]
    },
    {
     "name": "stderr",
     "output_type": "stream",
     "text": [
      "/Users/tomkinsj/miniconda3/envs/python_analysis_nf1/lib/python3.9/site-packages/umap/umap_.py:1943: UserWarning: n_jobs value -1 overridden to 1 by setting random_state. Use no seed for parallelism.\n",
      "  warn(f\"n_jobs value {self.n_jobs} overridden to 1 by setting random_state. Use no seed for parallelism.\")\n"
     ]
    },
    {
     "name": "stdout",
     "output_type": "stream",
     "text": [
      "(14495, 2)\n"
     ]
    },
    {
     "name": "stderr",
     "output_type": "stream",
     "text": [
      "/Users/tomkinsj/miniconda3/envs/python_analysis_nf1/lib/python3.9/site-packages/umap/umap_.py:1943: UserWarning: n_jobs value -1 overridden to 1 by setting random_state. Use no seed for parallelism.\n",
      "  warn(f\"n_jobs value {self.n_jobs} overridden to 1 by setting random_state. Use no seed for parallelism.\")\n"
     ]
    },
    {
     "name": "stdout",
     "output_type": "stream",
     "text": [
      "(18503, 2)\n"
     ]
    }
   ],
   "source": [
    "desired_columns = [\"Metadata_Well\", \"Metadata_Site\", \"Metadata_number_of_singlecells\", \"Metadata_genotype\"]\n",
    "\n",
    "# Fit UMAP features per dataset and save\n",
    "for plate in cp_dfs:\n",
    "    plate_name = pathlib.Path(plate).stem\n",
    "    # Make sure to reinitialize UMAP instance per plate\n",
    "    umap_fit = umap.UMAP(\n",
    "        random_state=umap_random_seed,\n",
    "        n_components=umap_n_components\n",
    "    )\n",
    "    \n",
    "    # Remove NA columns\n",
    "    cp_df = cp_dfs[plate]\n",
    "    cp_df = feature_select(\n",
    "        cp_df,\n",
    "        operation=\"drop_na_columns\",\n",
    "        na_cutoff=0\n",
    "    )\n",
    "    \n",
    "    # Process cp_df to separate features and metadata\n",
    "    cp_features = infer_cp_features(cp_df)\n",
    "    meta_features = infer_cp_features(cp_df, metadata=True)\n",
    "    filtered_meta_features = [feature for feature in meta_features if feature in desired_columns]\n",
    "    \n",
    "    # Fit UMAP and convert to pandas DataFrame\n",
    "    embeddings = pd.DataFrame(\n",
    "        umap_fit.fit_transform(cp_df.loc[:, cp_features]),\n",
    "        columns=[f\"UMAP{x}\" for x in range(0, umap_n_components)]\n",
    "    )\n",
    "    print(embeddings.shape)\n",
    "    \n",
    "    # Combine with metadata\n",
    "    cp_umap_with_metadata_df = pd.concat([\n",
    "        cp_df.loc[:, filtered_meta_features],\n",
    "        embeddings\n",
    "    ], axis=1)\n",
    "    \n",
    "    # Generate output file and save\n",
    "    output_umap_file = pathlib.Path(output_dir, f\"UMAP_{plate_name}.tsv\")\n",
    "    cp_umap_with_metadata_df.to_csv(output_umap_file, index=False, sep=\"\\t\")\n"
   ]
  },
  {
   "cell_type": "code",
   "execution_count": 6,
   "metadata": {},
   "outputs": [
    {
     "data": {
      "text/html": [
       "<div>\n",
       "<style scoped>\n",
       "    .dataframe tbody tr th:only-of-type {\n",
       "        vertical-align: middle;\n",
       "    }\n",
       "\n",
       "    .dataframe tbody tr th {\n",
       "        vertical-align: top;\n",
       "    }\n",
       "\n",
       "    .dataframe thead th {\n",
       "        text-align: right;\n",
       "    }\n",
       "</style>\n",
       "<table border=\"1\" class=\"dataframe\">\n",
       "  <thead>\n",
       "    <tr style=\"text-align: right;\">\n",
       "      <th></th>\n",
       "      <th>Metadata_Well</th>\n",
       "      <th>Metadata_Site</th>\n",
       "      <th>Metadata_number_of_singlecells</th>\n",
       "      <th>Metadata_genotype</th>\n",
       "      <th>UMAP0</th>\n",
       "      <th>UMAP1</th>\n",
       "    </tr>\n",
       "  </thead>\n",
       "  <tbody>\n",
       "    <tr>\n",
       "      <th>0</th>\n",
       "      <td>B1</td>\n",
       "      <td>10</td>\n",
       "      <td>46</td>\n",
       "      <td>WT</td>\n",
       "      <td>1.548873</td>\n",
       "      <td>1.504329</td>\n",
       "    </tr>\n",
       "    <tr>\n",
       "      <th>1</th>\n",
       "      <td>B1</td>\n",
       "      <td>12</td>\n",
       "      <td>46</td>\n",
       "      <td>WT</td>\n",
       "      <td>2.549920</td>\n",
       "      <td>0.041894</td>\n",
       "    </tr>\n",
       "    <tr>\n",
       "      <th>2</th>\n",
       "      <td>B1</td>\n",
       "      <td>12</td>\n",
       "      <td>46</td>\n",
       "      <td>WT</td>\n",
       "      <td>3.027844</td>\n",
       "      <td>-0.083247</td>\n",
       "    </tr>\n",
       "    <tr>\n",
       "      <th>3</th>\n",
       "      <td>B1</td>\n",
       "      <td>12</td>\n",
       "      <td>46</td>\n",
       "      <td>WT</td>\n",
       "      <td>1.458717</td>\n",
       "      <td>1.684076</td>\n",
       "    </tr>\n",
       "    <tr>\n",
       "      <th>4</th>\n",
       "      <td>B1</td>\n",
       "      <td>16</td>\n",
       "      <td>46</td>\n",
       "      <td>WT</td>\n",
       "      <td>1.423965</td>\n",
       "      <td>2.556354</td>\n",
       "    </tr>\n",
       "  </tbody>\n",
       "</table>\n",
       "</div>"
      ],
      "text/plain": [
       "  Metadata_Well Metadata_Site  Metadata_number_of_singlecells  \\\n",
       "0            B1            10                              46   \n",
       "1            B1            12                              46   \n",
       "2            B1            12                              46   \n",
       "3            B1            12                              46   \n",
       "4            B1            16                              46   \n",
       "\n",
       "  Metadata_genotype     UMAP0     UMAP1  \n",
       "0                WT  1.548873  1.504329  \n",
       "1                WT  2.549920  0.041894  \n",
       "2                WT  3.027844 -0.083247  \n",
       "3                WT  1.458717  1.684076  \n",
       "4                WT  1.423965  2.556354  "
      ]
     },
     "execution_count": 6,
     "metadata": {},
     "output_type": "execute_result"
    }
   ],
   "source": [
    "# Print an example output file\n",
    "cp_umap_with_metadata_df.head()\n"
   ]
  }
 ],
 "metadata": {
  "kernelspec": {
   "display_name": "Python 3",
   "language": "python",
   "name": "python3"
  },
  "language_info": {
   "codemirror_mode": {
    "name": "ipython",
    "version": 3
   },
   "file_extension": ".py",
   "mimetype": "text/x-python",
   "name": "python",
   "nbconvert_exporter": "python",
   "pygments_lexer": "ipython3",
   "version": "3.9.12"
  }
 },
 "nbformat": 4,
 "nbformat_minor": 2
}
