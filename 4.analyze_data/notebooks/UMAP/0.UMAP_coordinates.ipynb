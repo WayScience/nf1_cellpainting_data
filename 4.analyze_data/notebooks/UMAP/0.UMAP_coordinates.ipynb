{
 "cells": [
  {
   "cell_type": "markdown",
   "metadata": {},
   "source": [
    "# Generate UMAP coordinates for each plate"
   ]
  },
  {
   "cell_type": "markdown",
   "metadata": {},
   "source": [
    "## Import libraries"
   ]
  },
  {
   "cell_type": "code",
   "execution_count": 1,
   "metadata": {},
   "outputs": [],
   "source": [
    "import glob\n",
    "import pathlib\n",
    "import pandas as pd\n",
    "import umap\n",
    "\n",
    "from pycytominer import feature_select\n",
    "from pycytominer.cyto_utils import infer_cp_features\n"
   ]
  },
  {
   "cell_type": "markdown",
   "metadata": {},
   "source": [
    "## Set constants"
   ]
  },
  {
   "cell_type": "code",
   "execution_count": 2,
   "metadata": {},
   "outputs": [],
   "source": [
    "# Set constants\n",
    "umap_random_seed = 0\n",
    "umap_n_components = 2\n",
    "\n",
    "output_dir = pathlib.Path(\"results\")\n",
    "output_dir.mkdir(parents=True, exist_ok=True)\n"
   ]
  },
  {
   "cell_type": "markdown",
   "metadata": {},
   "source": [
    "## Create list of paths to feature selected data per plate"
   ]
  },
  {
   "cell_type": "code",
   "execution_count": 3,
   "metadata": {},
   "outputs": [
    {
     "data": {
      "text/plain": [
       "['../../../3.processing_features/data/single_cell_profiles/Plate_1_sc_feature_selected.parquet',\n",
       " '../../../3.processing_features/data/single_cell_profiles/Plate_3_prime_sc_feature_selected.parquet',\n",
       " '../../../3.processing_features/data/single_cell_profiles/Plate_4_sc_feature_selected.parquet',\n",
       " '../../../3.processing_features/data/single_cell_profiles/Plate_5_sc_feature_selected.parquet',\n",
       " '../../../3.processing_features/data/single_cell_profiles/Plate_2_sc_feature_selected.parquet',\n",
       " '../../../3.processing_features/data/single_cell_profiles/Plate_3_sc_feature_selected.parquet']"
      ]
     },
     "execution_count": 3,
     "metadata": {},
     "output_type": "execute_result"
    }
   ],
   "source": [
    "# Set input paths\n",
    "data_dir = pathlib.Path(\"../../../3.processing_features/data/single_cell_profiles/\")\n",
    "\n",
    "# Select only the feature selected files\n",
    "file_suffix = \"*sc_feature_selected.parquet\"\n",
    "\n",
    "# Obtain file paths for all feature selected plates\n",
    "fs_files = glob.glob(f\"{data_dir}/{file_suffix}\")\n",
    "fs_files\n"
   ]
  },
  {
   "cell_type": "code",
   "execution_count": 4,
   "metadata": {},
   "outputs": [
    {
     "name": "stdout",
     "output_type": "stream",
     "text": [
      "dict_keys(['Plate_1_sc_feature_selected.parquet', 'Plate_3_prime_sc_feature_selected.parquet', 'Plate_4_sc_feature_selected.parquet', 'Plate_5_sc_feature_selected.parquet', 'Plate_2_sc_feature_selected.parquet', 'Plate_3_sc_feature_selected.parquet'])\n"
     ]
    },
    {
     "data": {
      "text/plain": [
       "[(241, 849),\n",
       " (5506, 1146),\n",
       " (7308, 1163),\n",
       " (5793, 1174),\n",
       " (1714, 856),\n",
       " (11286, 1171)]"
      ]
     },
     "execution_count": 4,
     "metadata": {},
     "output_type": "execute_result"
    }
   ],
   "source": [
    "# Load feature data into a dictionary, keyed on plate name\n",
    "cp_dfs = {x.split(\"/\")[-1]: pd.read_parquet(x) for x in fs_files}\n",
    "\n",
    "# Print out useful information about each dataset\n",
    "print(cp_dfs.keys())\n",
    "[cp_dfs[x].shape for x in cp_dfs]\n"
   ]
  },
  {
   "cell_type": "markdown",
   "metadata": {},
   "source": [
    "## Generate UMAP coordinates for each plate\n",
    "\n",
    "**Note:** Only metadata that is common between plates are included in final data frame."
   ]
  },
  {
   "cell_type": "code",
   "execution_count": 5,
   "metadata": {},
   "outputs": [
    {
     "name": "stdout",
     "output_type": "stream",
     "text": [
      "UMAP embeddings being generated for Plate_1_sc_feature_selected\n"
     ]
    },
    {
     "name": "stderr",
     "output_type": "stream",
     "text": [
      "/home/jenna/mambaforge/envs/python_analysis_nf1/lib/python3.9/site-packages/umap/umap_.py:1943: UserWarning: n_jobs value -1 overridden to 1 by setting random_state. Use no seed for parallelism.\n",
      "  warn(f\"n_jobs value {self.n_jobs} overridden to 1 by setting random_state. Use no seed for parallelism.\")\n"
     ]
    },
    {
     "name": "stdout",
     "output_type": "stream",
     "text": [
      "(241, 2)\n",
      "UMAP embeddings being generated for Plate_3_prime_sc_feature_selected\n"
     ]
    },
    {
     "name": "stderr",
     "output_type": "stream",
     "text": [
      "/home/jenna/mambaforge/envs/python_analysis_nf1/lib/python3.9/site-packages/umap/umap_.py:1943: UserWarning: n_jobs value -1 overridden to 1 by setting random_state. Use no seed for parallelism.\n",
      "  warn(f\"n_jobs value {self.n_jobs} overridden to 1 by setting random_state. Use no seed for parallelism.\")\n"
     ]
    },
    {
     "name": "stdout",
     "output_type": "stream",
     "text": [
      "(5506, 2)\n",
      "UMAP embeddings being generated for Plate_4_sc_feature_selected\n"
     ]
    },
    {
     "name": "stderr",
     "output_type": "stream",
     "text": [
      "/home/jenna/mambaforge/envs/python_analysis_nf1/lib/python3.9/site-packages/umap/umap_.py:1943: UserWarning: n_jobs value -1 overridden to 1 by setting random_state. Use no seed for parallelism.\n",
      "  warn(f\"n_jobs value {self.n_jobs} overridden to 1 by setting random_state. Use no seed for parallelism.\")\n"
     ]
    },
    {
     "name": "stdout",
     "output_type": "stream",
     "text": [
      "(7308, 2)\n",
      "UMAP embeddings being generated for Plate_5_sc_feature_selected\n"
     ]
    },
    {
     "name": "stderr",
     "output_type": "stream",
     "text": [
      "/home/jenna/mambaforge/envs/python_analysis_nf1/lib/python3.9/site-packages/umap/umap_.py:1943: UserWarning: n_jobs value -1 overridden to 1 by setting random_state. Use no seed for parallelism.\n",
      "  warn(f\"n_jobs value {self.n_jobs} overridden to 1 by setting random_state. Use no seed for parallelism.\")\n"
     ]
    },
    {
     "name": "stdout",
     "output_type": "stream",
     "text": [
      "(5793, 2)\n",
      "UMAP embeddings being generated for Plate_2_sc_feature_selected\n"
     ]
    },
    {
     "name": "stderr",
     "output_type": "stream",
     "text": [
      "/home/jenna/mambaforge/envs/python_analysis_nf1/lib/python3.9/site-packages/umap/umap_.py:1943: UserWarning: n_jobs value -1 overridden to 1 by setting random_state. Use no seed for parallelism.\n",
      "  warn(f\"n_jobs value {self.n_jobs} overridden to 1 by setting random_state. Use no seed for parallelism.\")\n"
     ]
    },
    {
     "name": "stdout",
     "output_type": "stream",
     "text": [
      "(1714, 2)\n",
      "UMAP embeddings being generated for Plate_3_sc_feature_selected\n"
     ]
    },
    {
     "name": "stderr",
     "output_type": "stream",
     "text": [
      "/home/jenna/mambaforge/envs/python_analysis_nf1/lib/python3.9/site-packages/umap/umap_.py:1943: UserWarning: n_jobs value -1 overridden to 1 by setting random_state. Use no seed for parallelism.\n",
      "  warn(f\"n_jobs value {self.n_jobs} overridden to 1 by setting random_state. Use no seed for parallelism.\")\n"
     ]
    },
    {
     "name": "stdout",
     "output_type": "stream",
     "text": [
      "(11286, 2)\n"
     ]
    }
   ],
   "source": [
    "desired_columns = [\"Metadata_Plate\",\"Metadata_Well\", \"Metadata_Site\", \"Metadata_number_of_singlecells\", \"Metadata_genotype\"]\n",
    "\n",
    "# Fit UMAP features per dataset and save\n",
    "for plate in cp_dfs:\n",
    "    plate_name = pathlib.Path(plate).stem\n",
    "    print(\"UMAP embeddings being generated for\", plate_name)\n",
    "\n",
    "     # Make sure to reinitialize UMAP instance per plate\n",
    "    umap_fit = umap.UMAP(\n",
    "        random_state=umap_random_seed,\n",
    "        n_components=umap_n_components\n",
    "    )\n",
    "\n",
    "    # Make sure NA columns have been removed\n",
    "    cp_df = cp_dfs[plate]\n",
    "    cp_df = feature_select(\n",
    "        cp_df,\n",
    "        operation=\"drop_na_columns\",\n",
    "        na_cutoff=0\n",
    "    )\n",
    "\n",
    "    # Make sure that the Plate_3_prime has correct name in Metadata_Plate column\n",
    "    if plate_name.replace(\"_sc_feature_selected\", \"\") == \"Plate_3_prime\":\n",
    "        cp_df[\"Metadata_Plate\"] = \"Plate_3_prime\"\n",
    "\n",
    "    # Remove rows with genotype HET for Plate_5\n",
    "    if plate_name.replace(\"_sc_feature_selected\", \"\") == \"Plate_5\":\n",
    "        cp_df = cp_df[cp_df[\"Metadata_genotype\"] != \"HET\"]\n",
    "    \n",
    "    # Process cp_df to separate features and metadata\n",
    "    cp_features = infer_cp_features(cp_df)\n",
    "    meta_features = infer_cp_features(cp_df, metadata=True)\n",
    "    filtered_meta_features = [feature for feature in meta_features if feature in desired_columns]\n",
    "    \n",
    "    # Fit UMAP and convert to pandas DataFrame\n",
    "    embeddings = pd.DataFrame(\n",
    "        umap_fit.fit_transform(cp_df.loc[:, cp_features]),\n",
    "        columns=[f\"UMAP{x}\" for x in range(0, umap_n_components)]\n",
    "    )\n",
    "    print(embeddings.shape)\n",
    "    \n",
    "    # Combine with metadata\n",
    "    cp_umap_with_metadata_df = pd.concat([\n",
    "        cp_df.loc[:, filtered_meta_features].reset_index(drop=True),\n",
    "        embeddings\n",
    "    ], axis=1)\n",
    "    \n",
    "    # randomize the rows of the dataframe to plot the order of the data evenly\n",
    "    cp_umap_with_metadata_df = cp_umap_with_metadata_df.sample(frac=1, random_state=0)\n",
    "\n",
    "    # Generate output file and save\n",
    "    output_umap_file = pathlib.Path(output_dir, f\"UMAP_{plate_name}.tsv\")\n",
    "    cp_umap_with_metadata_df.to_csv(output_umap_file, index=False, sep=\"\\t\")\n"
   ]
  },
  {
   "cell_type": "code",
   "execution_count": 6,
   "metadata": {},
   "outputs": [
    {
     "name": "stdout",
     "output_type": "stream",
     "text": [
      "(11286, 7)\n"
     ]
    },
    {
     "data": {
      "text/html": [
       "<div>\n",
       "<style scoped>\n",
       "    .dataframe tbody tr th:only-of-type {\n",
       "        vertical-align: middle;\n",
       "    }\n",
       "\n",
       "    .dataframe tbody tr th {\n",
       "        vertical-align: top;\n",
       "    }\n",
       "\n",
       "    .dataframe thead th {\n",
       "        text-align: right;\n",
       "    }\n",
       "</style>\n",
       "<table border=\"1\" class=\"dataframe\">\n",
       "  <thead>\n",
       "    <tr style=\"text-align: right;\">\n",
       "      <th></th>\n",
       "      <th>Metadata_Well</th>\n",
       "      <th>Metadata_Site</th>\n",
       "      <th>Metadata_number_of_singlecells</th>\n",
       "      <th>Metadata_genotype</th>\n",
       "      <th>Metadata_Plate</th>\n",
       "      <th>UMAP0</th>\n",
       "      <th>UMAP1</th>\n",
       "    </tr>\n",
       "  </thead>\n",
       "  <tbody>\n",
       "    <tr>\n",
       "      <th>4136</th>\n",
       "      <td>D4</td>\n",
       "      <td>8</td>\n",
       "      <td>636</td>\n",
       "      <td>WT</td>\n",
       "      <td>Plate_3</td>\n",
       "      <td>8.818437</td>\n",
       "      <td>4.097239</td>\n",
       "    </tr>\n",
       "    <tr>\n",
       "      <th>5457</th>\n",
       "      <td>B10</td>\n",
       "      <td>24</td>\n",
       "      <td>86</td>\n",
       "      <td>Null</td>\n",
       "      <td>Plate_3</td>\n",
       "      <td>9.012610</td>\n",
       "      <td>6.500041</td>\n",
       "    </tr>\n",
       "    <tr>\n",
       "      <th>10346</th>\n",
       "      <td>F12</td>\n",
       "      <td>17</td>\n",
       "      <td>647</td>\n",
       "      <td>Null</td>\n",
       "      <td>Plate_3</td>\n",
       "      <td>8.104309</td>\n",
       "      <td>5.912871</td>\n",
       "    </tr>\n",
       "    <tr>\n",
       "      <th>3701</th>\n",
       "      <td>D4</td>\n",
       "      <td>1</td>\n",
       "      <td>636</td>\n",
       "      <td>WT</td>\n",
       "      <td>Plate_3</td>\n",
       "      <td>10.596231</td>\n",
       "      <td>3.488836</td>\n",
       "    </tr>\n",
       "    <tr>\n",
       "      <th>9596</th>\n",
       "      <td>E12</td>\n",
       "      <td>14</td>\n",
       "      <td>607</td>\n",
       "      <td>Null</td>\n",
       "      <td>Plate_3</td>\n",
       "      <td>9.566523</td>\n",
       "      <td>3.041514</td>\n",
       "    </tr>\n",
       "  </tbody>\n",
       "</table>\n",
       "</div>"
      ],
      "text/plain": [
       "      Metadata_Well Metadata_Site  Metadata_number_of_singlecells  \\\n",
       "4136             D4             8                             636   \n",
       "5457            B10            24                              86   \n",
       "10346           F12            17                             647   \n",
       "3701             D4             1                             636   \n",
       "9596            E12            14                             607   \n",
       "\n",
       "      Metadata_genotype Metadata_Plate      UMAP0     UMAP1  \n",
       "4136                 WT        Plate_3   8.818437  4.097239  \n",
       "5457               Null        Plate_3   9.012610  6.500041  \n",
       "10346              Null        Plate_3   8.104309  5.912871  \n",
       "3701                 WT        Plate_3  10.596231  3.488836  \n",
       "9596               Null        Plate_3   9.566523  3.041514  "
      ]
     },
     "execution_count": 6,
     "metadata": {},
     "output_type": "execute_result"
    }
   ],
   "source": [
    "# Print an example output file\n",
    "print(cp_umap_with_metadata_df.shape)\n",
    "cp_umap_with_metadata_df.head()\n"
   ]
  },
  {
   "cell_type": "code",
   "execution_count": 7,
   "metadata": {},
   "outputs": [
    {
     "data": {
      "text/plain": [
       "['../../../3.processing_features/data/single_cell_profiles/Plate_1_sc_feature_selected.parquet',\n",
       " '../../../3.processing_features/data/single_cell_profiles/Plate_3_prime_sc_feature_selected.parquet',\n",
       " '../../../3.processing_features/data/single_cell_profiles/Plate_4_sc_feature_selected.parquet',\n",
       " '../../../3.processing_features/data/single_cell_profiles/Plate_5_sc_feature_selected.parquet',\n",
       " '../../../3.processing_features/data/single_cell_profiles/Plate_2_sc_feature_selected.parquet',\n",
       " '../../../3.processing_features/data/single_cell_profiles/Plate_3_sc_feature_selected.parquet']"
      ]
     },
     "execution_count": 7,
     "metadata": {},
     "output_type": "execute_result"
    }
   ],
   "source": [
    "# Set input paths\n",
    "data_dir = pathlib.Path(\"../../../3.processing_features/data/single_cell_profiles/\")\n",
    "\n",
    "# Select only the feature selected files\n",
    "fs_suffix = \"*sc_feature_selected.parquet\"\n",
    "\n",
    "# Obtain file paths for all feature selected plates\n",
    "fs_files = glob.glob(f\"{data_dir}/{fs_suffix}\")\n",
    "fs_files"
   ]
  },
  {
   "cell_type": "code",
   "execution_count": 8,
   "metadata": {},
   "outputs": [],
   "source": [
    "# Select file paths for plates 5, 3, and 3 prime only\n",
    "selected_plates = [\"Plate_5\", \"Plate_3\", \"Plate_3_prime\", \"Plate_4\"]\n",
    "\n",
    "# Filter and concatenate the selected plates\n",
    "selected_dfs = []\n",
    "for file_path in fs_files:\n",
    "    plate_name = pathlib.Path(file_path).stem.replace(\"_sc_feature_selected\", \"\")\n",
    "\n",
    "    # Only read in selected plates\n",
    "    if plate_name in selected_plates:\n",
    "        df = pd.read_parquet(file_path)\n",
    "\n",
    "        # Update Metadata_Plate for Plate_3_prime\n",
    "        if plate_name == \"Plate_3_prime\":\n",
    "            df[\"Metadata_Plate\"] = \"Plate_3_prime\"\n",
    "\n",
    "        # For Plate_4, only include rows where Metadata_siRNA is \"None\"\n",
    "        if plate_name == \"Plate_4\":\n",
    "            # Fill NaN values in \"Metadata_siRNA\" column with \"No Construct\"\n",
    "            df[\"Metadata_siRNA\"].fillna(\"No Construct\", inplace=True)\n",
    "\n",
    "            # Filter out rows where \"Metadata_siRNA\" is \"No Construct\"\n",
    "            df = df[df[\"Metadata_siRNA\"] == \"No Construct\"]\n",
    "\n",
    "        selected_dfs.append(df)"
   ]
  },
  {
   "cell_type": "code",
   "execution_count": 9,
   "metadata": {},
   "outputs": [
    {
     "data": {
      "text/plain": [
       "869"
      ]
     },
     "execution_count": 9,
     "metadata": {},
     "output_type": "execute_result"
    }
   ],
   "source": [
    "# Get the column names of all DataFrames in selected_dfs\n",
    "column_sets = [set(df.columns) for df in selected_dfs]\n",
    "\n",
    "# Find the common column names across all DataFrames\n",
    "common_columns = list(set.intersection(*column_sets))\n",
    "\n",
    "len(common_columns)"
   ]
  },
  {
   "cell_type": "code",
   "execution_count": 10,
   "metadata": {},
   "outputs": [
    {
     "name": "stdout",
     "output_type": "stream",
     "text": [
      "(24237, 869)\n"
     ]
    },
    {
     "data": {
      "text/html": [
       "<div>\n",
       "<style scoped>\n",
       "    .dataframe tbody tr th:only-of-type {\n",
       "        vertical-align: middle;\n",
       "    }\n",
       "\n",
       "    .dataframe tbody tr th {\n",
       "        vertical-align: top;\n",
       "    }\n",
       "\n",
       "    .dataframe thead th {\n",
       "        text-align: right;\n",
       "    }\n",
       "</style>\n",
       "<table border=\"1\" class=\"dataframe\">\n",
       "  <thead>\n",
       "    <tr style=\"text-align: right;\">\n",
       "      <th></th>\n",
       "      <th>Nuclei_Texture_InverseDifferenceMoment_RFP_3_01_256</th>\n",
       "      <th>Cells_RadialDistribution_ZernikePhase_GFP_3_3</th>\n",
       "      <th>Nuclei_Correlation_RWC_CY5_DAPI</th>\n",
       "      <th>Cells_AreaShape_Zernike_4_2</th>\n",
       "      <th>Cytoplasm_RadialDistribution_ZernikePhase_DAPI_3_1</th>\n",
       "      <th>Cells_Texture_Correlation_DAPI_3_03_256</th>\n",
       "      <th>Cells_RadialDistribution_RadialCV_CY5_3of4</th>\n",
       "      <th>Cells_RadialDistribution_ZernikeMagnitude_RFP_4_0</th>\n",
       "      <th>Cytoplasm_RadialDistribution_ZernikePhase_DAPI_5_3</th>\n",
       "      <th>Cells_RadialDistribution_ZernikePhase_DAPI_5_5</th>\n",
       "      <th>...</th>\n",
       "      <th>Nuclei_RadialDistribution_ZernikeMagnitude_RFP_6_4</th>\n",
       "      <th>Cytoplasm_RadialDistribution_MeanFrac_RFP_2of4</th>\n",
       "      <th>Nuclei_RadialDistribution_ZernikePhase_CY5_9_9</th>\n",
       "      <th>Nuclei_Texture_InfoMeas2_RFP_3_03_256</th>\n",
       "      <th>Cytoplasm_Texture_Contrast_DAPI_3_01_256</th>\n",
       "      <th>Metadata_number_of_singlecells</th>\n",
       "      <th>Cytoplasm_RadialDistribution_ZernikePhase_CY5_7_5</th>\n",
       "      <th>Nuclei_RadialDistribution_ZernikeMagnitude_CY5_5_3</th>\n",
       "      <th>Nuclei_Correlation_RWC_CY5_RFP</th>\n",
       "      <th>Cytoplasm_RadialDistribution_ZernikeMagnitude_GFP_9_1</th>\n",
       "    </tr>\n",
       "  </thead>\n",
       "  <tbody>\n",
       "    <tr>\n",
       "      <th>0</th>\n",
       "      <td>0.141945</td>\n",
       "      <td>-1.250977</td>\n",
       "      <td>-0.774238</td>\n",
       "      <td>-0.598308</td>\n",
       "      <td>-0.324820</td>\n",
       "      <td>0.469953</td>\n",
       "      <td>-0.168790</td>\n",
       "      <td>2.174741</td>\n",
       "      <td>0.234069</td>\n",
       "      <td>-0.810408</td>\n",
       "      <td>...</td>\n",
       "      <td>0.648051</td>\n",
       "      <td>0.702338</td>\n",
       "      <td>1.398330</td>\n",
       "      <td>-1.125453</td>\n",
       "      <td>0.255068</td>\n",
       "      <td>30</td>\n",
       "      <td>1.181074</td>\n",
       "      <td>-0.912926</td>\n",
       "      <td>-1.520393</td>\n",
       "      <td>1.966928</td>\n",
       "    </tr>\n",
       "    <tr>\n",
       "      <th>1</th>\n",
       "      <td>0.165176</td>\n",
       "      <td>0.716965</td>\n",
       "      <td>1.488602</td>\n",
       "      <td>-1.117130</td>\n",
       "      <td>-0.831449</td>\n",
       "      <td>-0.247176</td>\n",
       "      <td>0.379996</td>\n",
       "      <td>0.455417</td>\n",
       "      <td>-0.977520</td>\n",
       "      <td>0.813808</td>\n",
       "      <td>...</td>\n",
       "      <td>-0.086966</td>\n",
       "      <td>0.399675</td>\n",
       "      <td>1.135891</td>\n",
       "      <td>-0.568796</td>\n",
       "      <td>-0.314933</td>\n",
       "      <td>30</td>\n",
       "      <td>1.134162</td>\n",
       "      <td>-0.707515</td>\n",
       "      <td>0.759211</td>\n",
       "      <td>1.635376</td>\n",
       "    </tr>\n",
       "    <tr>\n",
       "      <th>2</th>\n",
       "      <td>0.896395</td>\n",
       "      <td>-1.278784</td>\n",
       "      <td>1.140682</td>\n",
       "      <td>-1.236014</td>\n",
       "      <td>0.489929</td>\n",
       "      <td>0.215079</td>\n",
       "      <td>0.443063</td>\n",
       "      <td>1.276863</td>\n",
       "      <td>0.085449</td>\n",
       "      <td>0.936329</td>\n",
       "      <td>...</td>\n",
       "      <td>-0.214997</td>\n",
       "      <td>0.501861</td>\n",
       "      <td>1.725139</td>\n",
       "      <td>-1.224239</td>\n",
       "      <td>-0.511855</td>\n",
       "      <td>30</td>\n",
       "      <td>-1.691796</td>\n",
       "      <td>-0.897987</td>\n",
       "      <td>0.726766</td>\n",
       "      <td>-0.142542</td>\n",
       "    </tr>\n",
       "    <tr>\n",
       "      <th>3</th>\n",
       "      <td>0.182652</td>\n",
       "      <td>-1.029697</td>\n",
       "      <td>-0.201231</td>\n",
       "      <td>0.099055</td>\n",
       "      <td>-0.321274</td>\n",
       "      <td>0.262069</td>\n",
       "      <td>2.796305</td>\n",
       "      <td>0.895989</td>\n",
       "      <td>0.161515</td>\n",
       "      <td>-0.915909</td>\n",
       "      <td>...</td>\n",
       "      <td>0.061657</td>\n",
       "      <td>-0.793286</td>\n",
       "      <td>0.297918</td>\n",
       "      <td>0.423809</td>\n",
       "      <td>0.244527</td>\n",
       "      <td>30</td>\n",
       "      <td>-1.661782</td>\n",
       "      <td>2.126933</td>\n",
       "      <td>0.700690</td>\n",
       "      <td>-0.451321</td>\n",
       "    </tr>\n",
       "    <tr>\n",
       "      <th>4</th>\n",
       "      <td>-0.339741</td>\n",
       "      <td>0.190367</td>\n",
       "      <td>1.291133</td>\n",
       "      <td>-0.038245</td>\n",
       "      <td>1.171063</td>\n",
       "      <td>0.946991</td>\n",
       "      <td>-0.905929</td>\n",
       "      <td>2.459778</td>\n",
       "      <td>-1.600329</td>\n",
       "      <td>0.638119</td>\n",
       "      <td>...</td>\n",
       "      <td>-1.134100</td>\n",
       "      <td>1.703050</td>\n",
       "      <td>-1.163913</td>\n",
       "      <td>0.609913</td>\n",
       "      <td>-0.019757</td>\n",
       "      <td>30</td>\n",
       "      <td>-0.839158</td>\n",
       "      <td>-0.933506</td>\n",
       "      <td>0.977420</td>\n",
       "      <td>0.162720</td>\n",
       "    </tr>\n",
       "  </tbody>\n",
       "</table>\n",
       "<p>5 rows × 869 columns</p>\n",
       "</div>"
      ],
      "text/plain": [
       "   Nuclei_Texture_InverseDifferenceMoment_RFP_3_01_256  \\\n",
       "0                                           0.141945     \n",
       "1                                           0.165176     \n",
       "2                                           0.896395     \n",
       "3                                           0.182652     \n",
       "4                                          -0.339741     \n",
       "\n",
       "   Cells_RadialDistribution_ZernikePhase_GFP_3_3  \\\n",
       "0                                      -1.250977   \n",
       "1                                       0.716965   \n",
       "2                                      -1.278784   \n",
       "3                                      -1.029697   \n",
       "4                                       0.190367   \n",
       "\n",
       "   Nuclei_Correlation_RWC_CY5_DAPI  Cells_AreaShape_Zernike_4_2  \\\n",
       "0                        -0.774238                    -0.598308   \n",
       "1                         1.488602                    -1.117130   \n",
       "2                         1.140682                    -1.236014   \n",
       "3                        -0.201231                     0.099055   \n",
       "4                         1.291133                    -0.038245   \n",
       "\n",
       "   Cytoplasm_RadialDistribution_ZernikePhase_DAPI_3_1  \\\n",
       "0                                          -0.324820    \n",
       "1                                          -0.831449    \n",
       "2                                           0.489929    \n",
       "3                                          -0.321274    \n",
       "4                                           1.171063    \n",
       "\n",
       "   Cells_Texture_Correlation_DAPI_3_03_256  \\\n",
       "0                                 0.469953   \n",
       "1                                -0.247176   \n",
       "2                                 0.215079   \n",
       "3                                 0.262069   \n",
       "4                                 0.946991   \n",
       "\n",
       "   Cells_RadialDistribution_RadialCV_CY5_3of4  \\\n",
       "0                                   -0.168790   \n",
       "1                                    0.379996   \n",
       "2                                    0.443063   \n",
       "3                                    2.796305   \n",
       "4                                   -0.905929   \n",
       "\n",
       "   Cells_RadialDistribution_ZernikeMagnitude_RFP_4_0  \\\n",
       "0                                           2.174741   \n",
       "1                                           0.455417   \n",
       "2                                           1.276863   \n",
       "3                                           0.895989   \n",
       "4                                           2.459778   \n",
       "\n",
       "   Cytoplasm_RadialDistribution_ZernikePhase_DAPI_5_3  \\\n",
       "0                                           0.234069    \n",
       "1                                          -0.977520    \n",
       "2                                           0.085449    \n",
       "3                                           0.161515    \n",
       "4                                          -1.600329    \n",
       "\n",
       "   Cells_RadialDistribution_ZernikePhase_DAPI_5_5  ...  \\\n",
       "0                                       -0.810408  ...   \n",
       "1                                        0.813808  ...   \n",
       "2                                        0.936329  ...   \n",
       "3                                       -0.915909  ...   \n",
       "4                                        0.638119  ...   \n",
       "\n",
       "   Nuclei_RadialDistribution_ZernikeMagnitude_RFP_6_4  \\\n",
       "0                                           0.648051    \n",
       "1                                          -0.086966    \n",
       "2                                          -0.214997    \n",
       "3                                           0.061657    \n",
       "4                                          -1.134100    \n",
       "\n",
       "   Cytoplasm_RadialDistribution_MeanFrac_RFP_2of4  \\\n",
       "0                                        0.702338   \n",
       "1                                        0.399675   \n",
       "2                                        0.501861   \n",
       "3                                       -0.793286   \n",
       "4                                        1.703050   \n",
       "\n",
       "   Nuclei_RadialDistribution_ZernikePhase_CY5_9_9  \\\n",
       "0                                        1.398330   \n",
       "1                                        1.135891   \n",
       "2                                        1.725139   \n",
       "3                                        0.297918   \n",
       "4                                       -1.163913   \n",
       "\n",
       "   Nuclei_Texture_InfoMeas2_RFP_3_03_256  \\\n",
       "0                              -1.125453   \n",
       "1                              -0.568796   \n",
       "2                              -1.224239   \n",
       "3                               0.423809   \n",
       "4                               0.609913   \n",
       "\n",
       "   Cytoplasm_Texture_Contrast_DAPI_3_01_256  Metadata_number_of_singlecells  \\\n",
       "0                                  0.255068                              30   \n",
       "1                                 -0.314933                              30   \n",
       "2                                 -0.511855                              30   \n",
       "3                                  0.244527                              30   \n",
       "4                                 -0.019757                              30   \n",
       "\n",
       "   Cytoplasm_RadialDistribution_ZernikePhase_CY5_7_5  \\\n",
       "0                                           1.181074   \n",
       "1                                           1.134162   \n",
       "2                                          -1.691796   \n",
       "3                                          -1.661782   \n",
       "4                                          -0.839158   \n",
       "\n",
       "   Nuclei_RadialDistribution_ZernikeMagnitude_CY5_5_3  \\\n",
       "0                                          -0.912926    \n",
       "1                                          -0.707515    \n",
       "2                                          -0.897987    \n",
       "3                                           2.126933    \n",
       "4                                          -0.933506    \n",
       "\n",
       "   Nuclei_Correlation_RWC_CY5_RFP  \\\n",
       "0                       -1.520393   \n",
       "1                        0.759211   \n",
       "2                        0.726766   \n",
       "3                        0.700690   \n",
       "4                        0.977420   \n",
       "\n",
       "   Cytoplasm_RadialDistribution_ZernikeMagnitude_GFP_9_1  \n",
       "0                                           1.966928      \n",
       "1                                           1.635376      \n",
       "2                                          -0.142542      \n",
       "3                                          -0.451321      \n",
       "4                                           0.162720      \n",
       "\n",
       "[5 rows x 869 columns]"
      ]
     },
     "execution_count": 10,
     "metadata": {},
     "output_type": "execute_result"
    }
   ],
   "source": [
    "# Filter each DataFrame in selected_dfs to include only common columns\n",
    "selected_dfs_filtered = [df.loc[:, common_columns] for df in selected_dfs]\n",
    "\n",
    "# Concatenate the filtered dataframes along the rows\n",
    "concatenated_df = pd.concat(selected_dfs_filtered, ignore_index=True)\n",
    "\n",
    "# Save the concatenated dataframe to a file\n",
    "output_concatenated_file = pathlib.Path(output_dir, \"concatenated_norm_fs_plates_5_3_3prime_4controls.parquet\")\n",
    "concatenated_df.to_parquet(output_concatenated_file, index=False)\n",
    "\n",
    "print(concatenated_df.shape)\n",
    "concatenated_df.head()\n"
   ]
  },
  {
   "cell_type": "code",
   "execution_count": 11,
   "metadata": {},
   "outputs": [
    {
     "name": "stderr",
     "output_type": "stream",
     "text": [
      "/home/jenna/mambaforge/envs/python_analysis_nf1/lib/python3.9/site-packages/umap/umap_.py:1943: UserWarning: n_jobs value -1 overridden to 1 by setting random_state. Use no seed for parallelism.\n",
      "  warn(f\"n_jobs value {self.n_jobs} overridden to 1 by setting random_state. Use no seed for parallelism.\")\n"
     ]
    },
    {
     "name": "stdout",
     "output_type": "stream",
     "text": [
      "(24237, 2)\n"
     ]
    }
   ],
   "source": [
    "desired_columns = [\"Metadata_Plate\",\"Metadata_Well\", \"Metadata_Site\", \"Metadata_number_of_singlecells\", \"Metadata_genotype\"]\n",
    "\n",
    "# Make sure to reinitialize UMAP instance\n",
    "umap_fit = umap.UMAP(\n",
    "    random_state=umap_random_seed,\n",
    "    n_components=umap_n_components\n",
    ")\n",
    "\n",
    "# Process cp_df to separate features and metadata\n",
    "cp_features = infer_cp_features(concatenated_df)\n",
    "meta_features = infer_cp_features(concatenated_df, metadata=True)\n",
    "filtered_meta_features = [feature for feature in meta_features if feature in desired_columns]\n",
    "\n",
    "# Fit UMAP and convert to pandas DataFrame\n",
    "embeddings = pd.DataFrame(\n",
    "    umap_fit.fit_transform(concatenated_df.loc[:, cp_features]),\n",
    "    columns=[f\"UMAP{x}\" for x in range(0, umap_n_components)]\n",
    ")\n",
    "print(embeddings.shape)\n",
    "\n",
    "# Combine with metadata\n",
    "cp_umap_with_metadata_df = pd.concat([\n",
    "    concatenated_df.loc[:, filtered_meta_features],\n",
    "    embeddings\n",
    "], axis=1)\n",
    "\n",
    "# randomize the rows of the dataframe to plot the order of the data evenly\n",
    "cp_umap_with_metadata_df = cp_umap_with_metadata_df.sample(frac=1, random_state=0)\n",
    "\n",
    "# Generate output file and save\n",
    "output_umap_file = pathlib.Path(output_dir, f\"UMAP_Concat_sc_feature_selected.tsv\")\n",
    "cp_umap_with_metadata_df.to_csv(output_umap_file, index=False, sep=\"\\t\")\n"
   ]
  }
 ],
 "metadata": {
  "kernelspec": {
   "display_name": "Python 3",
   "language": "python",
   "name": "python3"
  },
  "language_info": {
   "codemirror_mode": {
    "name": "ipython",
    "version": 3
   },
   "file_extension": ".py",
   "mimetype": "text/x-python",
   "name": "python",
   "nbconvert_exporter": "python",
   "pygments_lexer": "ipython3",
   "version": "3.9.12"
  }
 },
 "nbformat": 4,
 "nbformat_minor": 2
}
