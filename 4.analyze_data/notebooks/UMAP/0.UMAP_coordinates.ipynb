{
 "cells": [
  {
   "cell_type": "markdown",
   "metadata": {},
   "source": [
    "# Generate UMAP coordinates for each plate"
   ]
  },
  {
   "cell_type": "markdown",
   "metadata": {},
   "source": [
    "## Import libraries"
   ]
  },
  {
   "cell_type": "code",
   "execution_count": 1,
   "metadata": {},
   "outputs": [],
   "source": [
    "import glob\n",
    "import pathlib\n",
    "import pandas as pd\n",
    "import umap\n",
    "\n",
    "from pycytominer import feature_select\n",
    "from pycytominer.cyto_utils import infer_cp_features\n"
   ]
  },
  {
   "cell_type": "markdown",
   "metadata": {},
   "source": [
    "## Set constants"
   ]
  },
  {
   "cell_type": "code",
   "execution_count": 2,
   "metadata": {},
   "outputs": [],
   "source": [
    "# Set constants\n",
    "umap_random_seed = 0\n",
    "umap_n_components = 2\n",
    "\n",
    "output_dir = pathlib.Path(\"results\")\n",
    "output_dir.mkdir(parents=True, exist_ok=True)\n"
   ]
  },
  {
   "cell_type": "markdown",
   "metadata": {},
   "source": [
    "## Create list of paths to feature selected data per plate"
   ]
  },
  {
   "cell_type": "code",
   "execution_count": 3,
   "metadata": {},
   "outputs": [
    {
     "data": {
      "text/plain": [
       "['../../../3.processing_features/data/single_cell_profiles/Plate_1_sc_feature_selected.parquet',\n",
       " '../../../3.processing_features/data/single_cell_profiles/Plate_3_prime_sc_feature_selected.parquet',\n",
       " '../../../3.processing_features/data/single_cell_profiles/Plate_4_sc_feature_selected.parquet',\n",
       " '../../../3.processing_features/data/single_cell_profiles/Plate_5_sc_feature_selected.parquet',\n",
       " '../../../3.processing_features/data/single_cell_profiles/Plate_2_sc_feature_selected.parquet',\n",
       " '../../../3.processing_features/data/single_cell_profiles/Plate_3_sc_feature_selected.parquet']"
      ]
     },
     "execution_count": 3,
     "metadata": {},
     "output_type": "execute_result"
    }
   ],
   "source": [
    "# Set input paths\n",
    "data_dir = pathlib.Path(\"../../../3.processing_features/data/single_cell_profiles/\")\n",
    "\n",
    "# Select only the feature selected files\n",
    "file_suffix = \"*sc_feature_selected.parquet\"\n",
    "\n",
    "# Obtain file paths for all feature selected plates\n",
    "fs_files = glob.glob(f\"{data_dir}/{file_suffix}\")\n",
    "fs_files\n"
   ]
  },
  {
   "cell_type": "code",
   "execution_count": 4,
   "metadata": {},
   "outputs": [
    {
     "name": "stdout",
     "output_type": "stream",
     "text": [
      "dict_keys(['Plate_1_sc_feature_selected.parquet', 'Plate_3_prime_sc_feature_selected.parquet', 'Plate_4_sc_feature_selected.parquet', 'Plate_5_sc_feature_selected.parquet', 'Plate_2_sc_feature_selected.parquet', 'Plate_3_sc_feature_selected.parquet'])\n"
     ]
    },
    {
     "data": {
      "text/plain": [
       "[(241, 849),\n",
       " (5506, 1146),\n",
       " (7308, 1163),\n",
       " (5793, 1174),\n",
       " (1714, 856),\n",
       " (11286, 1171)]"
      ]
     },
     "execution_count": 4,
     "metadata": {},
     "output_type": "execute_result"
    }
   ],
   "source": [
    "# Load feature data into a dictionary, keyed on plate name\n",
    "cp_dfs = {x.split(\"/\")[-1]: pd.read_parquet(x) for x in fs_files}\n",
    "\n",
    "# Print out useful information about each dataset\n",
    "print(cp_dfs.keys())\n",
    "[cp_dfs[x].shape for x in cp_dfs]\n"
   ]
  },
  {
   "cell_type": "markdown",
   "metadata": {},
   "source": [
    "## Generate UMAP coordinates for each plate\n",
    "\n",
    "**Note:** Only metadata that is common between plates are included in final data frame."
   ]
  },
  {
   "cell_type": "code",
   "execution_count": 5,
   "metadata": {},
   "outputs": [
    {
     "name": "stdout",
     "output_type": "stream",
     "text": [
      "UMAP embeddings being generated for Plate_1_sc_feature_selected\n"
     ]
    },
    {
     "name": "stderr",
     "output_type": "stream",
     "text": [
      "/home/jenna/mambaforge/envs/python_analysis_nf1/lib/python3.9/site-packages/umap/umap_.py:1943: UserWarning: n_jobs value -1 overridden to 1 by setting random_state. Use no seed for parallelism.\n",
      "  warn(f\"n_jobs value {self.n_jobs} overridden to 1 by setting random_state. Use no seed for parallelism.\")\n"
     ]
    },
    {
     "name": "stdout",
     "output_type": "stream",
     "text": [
      "(241, 2)\n",
      "UMAP embeddings being generated for Plate_3_prime_sc_feature_selected\n"
     ]
    },
    {
     "name": "stderr",
     "output_type": "stream",
     "text": [
      "/home/jenna/mambaforge/envs/python_analysis_nf1/lib/python3.9/site-packages/umap/umap_.py:1943: UserWarning: n_jobs value -1 overridden to 1 by setting random_state. Use no seed for parallelism.\n",
      "  warn(f\"n_jobs value {self.n_jobs} overridden to 1 by setting random_state. Use no seed for parallelism.\")\n"
     ]
    },
    {
     "name": "stdout",
     "output_type": "stream",
     "text": [
      "(5506, 2)\n",
      "UMAP embeddings being generated for Plate_4_sc_feature_selected\n"
     ]
    },
    {
     "name": "stderr",
     "output_type": "stream",
     "text": [
      "/home/jenna/mambaforge/envs/python_analysis_nf1/lib/python3.9/site-packages/umap/umap_.py:1943: UserWarning: n_jobs value -1 overridden to 1 by setting random_state. Use no seed for parallelism.\n",
      "  warn(f\"n_jobs value {self.n_jobs} overridden to 1 by setting random_state. Use no seed for parallelism.\")\n"
     ]
    },
    {
     "name": "stdout",
     "output_type": "stream",
     "text": [
      "(7308, 2)\n",
      "UMAP embeddings being generated for Plate_5_sc_feature_selected\n"
     ]
    },
    {
     "name": "stderr",
     "output_type": "stream",
     "text": [
      "/home/jenna/mambaforge/envs/python_analysis_nf1/lib/python3.9/site-packages/umap/umap_.py:1943: UserWarning: n_jobs value -1 overridden to 1 by setting random_state. Use no seed for parallelism.\n",
      "  warn(f\"n_jobs value {self.n_jobs} overridden to 1 by setting random_state. Use no seed for parallelism.\")\n"
     ]
    },
    {
     "name": "stdout",
     "output_type": "stream",
     "text": [
      "(5793, 2)\n",
      "UMAP embeddings being generated for Plate_2_sc_feature_selected\n"
     ]
    },
    {
     "name": "stderr",
     "output_type": "stream",
     "text": [
      "/home/jenna/mambaforge/envs/python_analysis_nf1/lib/python3.9/site-packages/umap/umap_.py:1943: UserWarning: n_jobs value -1 overridden to 1 by setting random_state. Use no seed for parallelism.\n",
      "  warn(f\"n_jobs value {self.n_jobs} overridden to 1 by setting random_state. Use no seed for parallelism.\")\n"
     ]
    },
    {
     "name": "stdout",
     "output_type": "stream",
     "text": [
      "(1714, 2)\n",
      "UMAP embeddings being generated for Plate_3_sc_feature_selected\n"
     ]
    },
    {
     "name": "stderr",
     "output_type": "stream",
     "text": [
      "/home/jenna/mambaforge/envs/python_analysis_nf1/lib/python3.9/site-packages/umap/umap_.py:1943: UserWarning: n_jobs value -1 overridden to 1 by setting random_state. Use no seed for parallelism.\n",
      "  warn(f\"n_jobs value {self.n_jobs} overridden to 1 by setting random_state. Use no seed for parallelism.\")\n"
     ]
    },
    {
     "name": "stdout",
     "output_type": "stream",
     "text": [
      "(11286, 2)\n"
     ]
    }
   ],
   "source": [
    "desired_columns = [\"Metadata_Plate\",\"Metadata_Well\", \"Metadata_Site\", \"Metadata_number_of_singlecells\", \"Metadata_genotype\"]\n",
    "\n",
    "# Fit UMAP features per dataset and save\n",
    "for plate in cp_dfs:\n",
    "    plate_name = pathlib.Path(plate).stem\n",
    "    print(\"UMAP embeddings being generated for\", plate_name)\n",
    "\n",
    "     # Make sure to reinitialize UMAP instance per plate\n",
    "    umap_fit = umap.UMAP(\n",
    "        random_state=umap_random_seed,\n",
    "        n_components=umap_n_components\n",
    "    )\n",
    "\n",
    "    # Make sure NA columns have been removed\n",
    "    cp_df = cp_dfs[plate]\n",
    "    cp_df = feature_select(\n",
    "        cp_df,\n",
    "        operation=\"drop_na_columns\",\n",
    "        na_cutoff=0\n",
    "    )\n",
    "\n",
    "    # Make sure that the Plate_3_prime has correct name in Metadata_Plate column\n",
    "    if plate_name.replace(\"_sc_feature_selected\", \"\") == \"Plate_3_prime\":\n",
    "        cp_df[\"Metadata_Plate\"] = \"Plate_3_prime\"\n",
    "\n",
    "    # Remove rows with genotype HET for Plate_5\n",
    "    if plate_name.replace(\"_sc_feature_selected\", \"\") == \"Plate_5\":\n",
    "        cp_df = cp_df[cp_df[\"Metadata_genotype\"] != \"HET\"]\n",
    "    \n",
    "    # Process cp_df to separate features and metadata\n",
    "    cp_features = infer_cp_features(cp_df)\n",
    "    meta_features = infer_cp_features(cp_df, metadata=True)\n",
    "    filtered_meta_features = [feature for feature in meta_features if feature in desired_columns]\n",
    "    \n",
    "    # Fit UMAP and convert to pandas DataFrame\n",
    "    embeddings = pd.DataFrame(\n",
    "        umap_fit.fit_transform(cp_df.loc[:, cp_features]),\n",
    "        columns=[f\"UMAP{x}\" for x in range(0, umap_n_components)]\n",
    "    )\n",
    "    print(embeddings.shape)\n",
    "    \n",
    "    # Combine with metadata\n",
    "    cp_umap_with_metadata_df = pd.concat([\n",
    "        cp_df.loc[:, filtered_meta_features].reset_index(drop=True),\n",
    "        embeddings\n",
    "    ], axis=1)\n",
    "    \n",
    "    # randomize the rows of the dataframe to plot the order of the data evenly\n",
    "    cp_umap_with_metadata_df = cp_umap_with_metadata_df.sample(frac=1, random_state=0)\n",
    "\n",
    "    # Generate output file and save\n",
    "    output_umap_file = pathlib.Path(output_dir, f\"UMAP_{plate_name}.tsv\")\n",
    "    cp_umap_with_metadata_df.to_csv(output_umap_file, index=False, sep=\"\\t\")\n"
   ]
  },
  {
   "cell_type": "code",
   "execution_count": 6,
   "metadata": {},
   "outputs": [
    {
     "name": "stdout",
     "output_type": "stream",
     "text": [
      "(11286, 7)\n"
     ]
    },
    {
     "data": {
      "text/html": [
       "<div>\n",
       "<style scoped>\n",
       "    .dataframe tbody tr th:only-of-type {\n",
       "        vertical-align: middle;\n",
       "    }\n",
       "\n",
       "    .dataframe tbody tr th {\n",
       "        vertical-align: top;\n",
       "    }\n",
       "\n",
       "    .dataframe thead th {\n",
       "        text-align: right;\n",
       "    }\n",
       "</style>\n",
       "<table border=\"1\" class=\"dataframe\">\n",
       "  <thead>\n",
       "    <tr style=\"text-align: right;\">\n",
       "      <th></th>\n",
       "      <th>Metadata_Well</th>\n",
       "      <th>Metadata_Site</th>\n",
       "      <th>Metadata_number_of_singlecells</th>\n",
       "      <th>Metadata_genotype</th>\n",
       "      <th>Metadata_Plate</th>\n",
       "      <th>UMAP0</th>\n",
       "      <th>UMAP1</th>\n",
       "    </tr>\n",
       "  </thead>\n",
       "  <tbody>\n",
       "    <tr>\n",
       "      <th>4136</th>\n",
       "      <td>D4</td>\n",
       "      <td>8</td>\n",
       "      <td>636</td>\n",
       "      <td>WT</td>\n",
       "      <td>Plate_3</td>\n",
       "      <td>8.818437</td>\n",
       "      <td>4.097239</td>\n",
       "    </tr>\n",
       "    <tr>\n",
       "      <th>5457</th>\n",
       "      <td>B10</td>\n",
       "      <td>24</td>\n",
       "      <td>86</td>\n",
       "      <td>Null</td>\n",
       "      <td>Plate_3</td>\n",
       "      <td>9.012610</td>\n",
       "      <td>6.500041</td>\n",
       "    </tr>\n",
       "    <tr>\n",
       "      <th>10346</th>\n",
       "      <td>F12</td>\n",
       "      <td>17</td>\n",
       "      <td>647</td>\n",
       "      <td>Null</td>\n",
       "      <td>Plate_3</td>\n",
       "      <td>8.104309</td>\n",
       "      <td>5.912871</td>\n",
       "    </tr>\n",
       "    <tr>\n",
       "      <th>3701</th>\n",
       "      <td>D4</td>\n",
       "      <td>1</td>\n",
       "      <td>636</td>\n",
       "      <td>WT</td>\n",
       "      <td>Plate_3</td>\n",
       "      <td>10.596231</td>\n",
       "      <td>3.488836</td>\n",
       "    </tr>\n",
       "    <tr>\n",
       "      <th>9596</th>\n",
       "      <td>E12</td>\n",
       "      <td>14</td>\n",
       "      <td>607</td>\n",
       "      <td>Null</td>\n",
       "      <td>Plate_3</td>\n",
       "      <td>9.566523</td>\n",
       "      <td>3.041514</td>\n",
       "    </tr>\n",
       "  </tbody>\n",
       "</table>\n",
       "</div>"
      ],
      "text/plain": [
       "      Metadata_Well Metadata_Site  Metadata_number_of_singlecells  \\\n",
       "4136             D4             8                             636   \n",
       "5457            B10            24                              86   \n",
       "10346           F12            17                             647   \n",
       "3701             D4             1                             636   \n",
       "9596            E12            14                             607   \n",
       "\n",
       "      Metadata_genotype Metadata_Plate      UMAP0     UMAP1  \n",
       "4136                 WT        Plate_3   8.818437  4.097239  \n",
       "5457               Null        Plate_3   9.012610  6.500041  \n",
       "10346              Null        Plate_3   8.104309  5.912871  \n",
       "3701                 WT        Plate_3  10.596231  3.488836  \n",
       "9596               Null        Plate_3   9.566523  3.041514  "
      ]
     },
     "execution_count": 6,
     "metadata": {},
     "output_type": "execute_result"
    }
   ],
   "source": [
    "# Print an example output file\n",
    "print(cp_umap_with_metadata_df.shape)\n",
    "cp_umap_with_metadata_df.head()\n"
   ]
  },
  {
   "cell_type": "code",
   "execution_count": 7,
   "metadata": {},
   "outputs": [
    {
     "data": {
      "text/plain": [
       "['../../../3.processing_features/data/single_cell_profiles/Plate_1_sc_feature_selected.parquet',\n",
       " '../../../3.processing_features/data/single_cell_profiles/Plate_3_prime_sc_feature_selected.parquet',\n",
       " '../../../3.processing_features/data/single_cell_profiles/Plate_4_sc_feature_selected.parquet',\n",
       " '../../../3.processing_features/data/single_cell_profiles/Plate_5_sc_feature_selected.parquet',\n",
       " '../../../3.processing_features/data/single_cell_profiles/Plate_2_sc_feature_selected.parquet',\n",
       " '../../../3.processing_features/data/single_cell_profiles/Plate_3_sc_feature_selected.parquet']"
      ]
     },
     "execution_count": 7,
     "metadata": {},
     "output_type": "execute_result"
    }
   ],
   "source": [
    "# Set input paths\n",
    "data_dir = pathlib.Path(\"../../../3.processing_features/data/single_cell_profiles/\")\n",
    "\n",
    "# Select only the feature selected files\n",
    "fs_suffix = \"*sc_feature_selected.parquet\"\n",
    "\n",
    "# Obtain file paths for all feature selected plates\n",
    "fs_files = glob.glob(f\"{data_dir}/{fs_suffix}\")\n",
    "fs_files"
   ]
  },
  {
   "cell_type": "code",
   "execution_count": 8,
   "metadata": {},
   "outputs": [],
   "source": [
    "# Select file paths for plates 5, 3, and 3 prime only\n",
    "selected_plates = [\"Plate_5\", \"Plate_3\", \"Plate_3_prime\"]\n",
    "\n",
    "# Filter and concatenate the selected plates\n",
    "selected_dfs = []\n",
    "for file_path in fs_files:\n",
    "    plate_name = pathlib.Path(file_path).stem.replace(\"_sc_feature_selected\", \"\")\n",
    "\n",
    "    # Only read in selected plates\n",
    "    if plate_name in selected_plates:\n",
    "        df = pd.read_parquet(file_path)\n",
    "\n",
    "        selected_dfs.append(df)"
   ]
  },
  {
   "cell_type": "code",
   "execution_count": 9,
   "metadata": {},
   "outputs": [
    {
     "data": {
      "text/plain": [
       "907"
      ]
     },
     "execution_count": 9,
     "metadata": {},
     "output_type": "execute_result"
    }
   ],
   "source": [
    "# Get the column names of all DataFrames in selected_dfs\n",
    "column_sets = [set(df.columns) for df in selected_dfs]\n",
    "\n",
    "# Find the common column names across all DataFrames\n",
    "common_columns = list(set.intersection(*column_sets))\n",
    "\n",
    "# Exclude columns that start with \"Metadata\" to print the number of features\n",
    "feature_columns = [col for col in common_columns if not col.startswith(\"Metadata\")]\n",
    "\n",
    "# Print length of only features\n",
    "len(feature_columns)"
   ]
  },
  {
   "cell_type": "code",
   "execution_count": 10,
   "metadata": {},
   "outputs": [
    {
     "name": "stdout",
     "output_type": "stream",
     "text": [
      "(22585, 924)\n"
     ]
    },
    {
     "data": {
      "text/html": [
       "<div>\n",
       "<style scoped>\n",
       "    .dataframe tbody tr th:only-of-type {\n",
       "        vertical-align: middle;\n",
       "    }\n",
       "\n",
       "    .dataframe tbody tr th {\n",
       "        vertical-align: top;\n",
       "    }\n",
       "\n",
       "    .dataframe thead th {\n",
       "        text-align: right;\n",
       "    }\n",
       "</style>\n",
       "<table border=\"1\" class=\"dataframe\">\n",
       "  <thead>\n",
       "    <tr style=\"text-align: right;\">\n",
       "      <th></th>\n",
       "      <th>Cells_RadialDistribution_ZernikePhase_GFP_6_2</th>\n",
       "      <th>Cells_RadialDistribution_ZernikeMagnitude_DAPI_3_1</th>\n",
       "      <th>Cells_RadialDistribution_ZernikePhase_DAPI_9_7</th>\n",
       "      <th>Cytoplasm_Intensity_IntegratedIntensity_DAPI</th>\n",
       "      <th>Nuclei_RadialDistribution_ZernikePhase_CY5_8_8</th>\n",
       "      <th>Cytoplasm_RadialDistribution_ZernikePhase_GFP_5_3</th>\n",
       "      <th>Nuclei_RadialDistribution_ZernikeMagnitude_GFP_7_7</th>\n",
       "      <th>Nuclei_RadialDistribution_ZernikePhase_DAPI_7_7</th>\n",
       "      <th>Nuclei_RadialDistribution_ZernikeMagnitude_RFP_8_0</th>\n",
       "      <th>Cytoplasm_RadialDistribution_ZernikePhase_RFP_2_2</th>\n",
       "      <th>...</th>\n",
       "      <th>Cells_RadialDistribution_RadialCV_GFP_2of4</th>\n",
       "      <th>Cells_RadialDistribution_ZernikePhase_GFP_7_3</th>\n",
       "      <th>Cells_RadialDistribution_ZernikeMagnitude_DAPI_6_0</th>\n",
       "      <th>Cytoplasm_RadialDistribution_ZernikeMagnitude_GFP_9_5</th>\n",
       "      <th>Cells_RadialDistribution_ZernikePhase_RFP_9_3</th>\n",
       "      <th>Nuclei_RadialDistribution_ZernikePhase_RFP_8_2</th>\n",
       "      <th>Cytoplasm_RadialDistribution_ZernikePhase_RFP_6_4</th>\n",
       "      <th>Cytoplasm_RadialDistribution_ZernikeMagnitude_GFP_7_1</th>\n",
       "      <th>Nuclei_RadialDistribution_ZernikePhase_GFP_7_3</th>\n",
       "      <th>Nuclei_RadialDistribution_ZernikePhase_GFP_5_3</th>\n",
       "    </tr>\n",
       "  </thead>\n",
       "  <tbody>\n",
       "    <tr>\n",
       "      <th>0</th>\n",
       "      <td>-1.677435</td>\n",
       "      <td>0.625136</td>\n",
       "      <td>1.518357</td>\n",
       "      <td>0.216370</td>\n",
       "      <td>-0.654427</td>\n",
       "      <td>0.402476</td>\n",
       "      <td>0.837912</td>\n",
       "      <td>1.090303</td>\n",
       "      <td>1.180208</td>\n",
       "      <td>1.276914</td>\n",
       "      <td>...</td>\n",
       "      <td>1.749038</td>\n",
       "      <td>-1.417871</td>\n",
       "      <td>-1.241596</td>\n",
       "      <td>0.315861</td>\n",
       "      <td>0.400919</td>\n",
       "      <td>1.196219</td>\n",
       "      <td>0.059943</td>\n",
       "      <td>1.685460</td>\n",
       "      <td>-0.529717</td>\n",
       "      <td>-1.603872</td>\n",
       "    </tr>\n",
       "    <tr>\n",
       "      <th>1</th>\n",
       "      <td>0.958254</td>\n",
       "      <td>0.313378</td>\n",
       "      <td>-0.861874</td>\n",
       "      <td>0.160026</td>\n",
       "      <td>-1.395179</td>\n",
       "      <td>-1.007452</td>\n",
       "      <td>-0.502066</td>\n",
       "      <td>0.104108</td>\n",
       "      <td>1.844138</td>\n",
       "      <td>0.257564</td>\n",
       "      <td>...</td>\n",
       "      <td>-0.644971</td>\n",
       "      <td>0.961738</td>\n",
       "      <td>-0.065138</td>\n",
       "      <td>0.298905</td>\n",
       "      <td>-0.432340</td>\n",
       "      <td>-0.422283</td>\n",
       "      <td>1.566175</td>\n",
       "      <td>-0.962706</td>\n",
       "      <td>-0.044767</td>\n",
       "      <td>0.417456</td>\n",
       "    </tr>\n",
       "    <tr>\n",
       "      <th>2</th>\n",
       "      <td>0.248763</td>\n",
       "      <td>-0.850626</td>\n",
       "      <td>-0.905618</td>\n",
       "      <td>0.339683</td>\n",
       "      <td>-1.343707</td>\n",
       "      <td>0.304697</td>\n",
       "      <td>-0.554036</td>\n",
       "      <td>-1.306485</td>\n",
       "      <td>-0.513942</td>\n",
       "      <td>0.480819</td>\n",
       "      <td>...</td>\n",
       "      <td>-0.532064</td>\n",
       "      <td>-1.466929</td>\n",
       "      <td>0.131230</td>\n",
       "      <td>-1.023434</td>\n",
       "      <td>1.527015</td>\n",
       "      <td>1.472545</td>\n",
       "      <td>-1.136578</td>\n",
       "      <td>0.840905</td>\n",
       "      <td>1.334838</td>\n",
       "      <td>-1.339474</td>\n",
       "    </tr>\n",
       "    <tr>\n",
       "      <th>3</th>\n",
       "      <td>-1.384300</td>\n",
       "      <td>0.749956</td>\n",
       "      <td>1.415600</td>\n",
       "      <td>0.347419</td>\n",
       "      <td>0.028354</td>\n",
       "      <td>0.931277</td>\n",
       "      <td>-0.192492</td>\n",
       "      <td>-1.031757</td>\n",
       "      <td>0.053700</td>\n",
       "      <td>0.991371</td>\n",
       "      <td>...</td>\n",
       "      <td>2.280827</td>\n",
       "      <td>-0.833413</td>\n",
       "      <td>-0.096487</td>\n",
       "      <td>-0.500810</td>\n",
       "      <td>1.412816</td>\n",
       "      <td>-0.033132</td>\n",
       "      <td>-0.784797</td>\n",
       "      <td>0.275493</td>\n",
       "      <td>-0.932890</td>\n",
       "      <td>0.651154</td>\n",
       "    </tr>\n",
       "    <tr>\n",
       "      <th>4</th>\n",
       "      <td>-1.689671</td>\n",
       "      <td>-0.185670</td>\n",
       "      <td>-0.337484</td>\n",
       "      <td>0.390760</td>\n",
       "      <td>-1.602552</td>\n",
       "      <td>-1.314188</td>\n",
       "      <td>0.809491</td>\n",
       "      <td>1.238281</td>\n",
       "      <td>0.805860</td>\n",
       "      <td>1.694736</td>\n",
       "      <td>...</td>\n",
       "      <td>-0.671582</td>\n",
       "      <td>0.428789</td>\n",
       "      <td>-1.307493</td>\n",
       "      <td>-0.529744</td>\n",
       "      <td>-0.951060</td>\n",
       "      <td>-1.595130</td>\n",
       "      <td>0.693836</td>\n",
       "      <td>0.225127</td>\n",
       "      <td>0.137821</td>\n",
       "      <td>-0.322376</td>\n",
       "    </tr>\n",
       "  </tbody>\n",
       "</table>\n",
       "<p>5 rows × 924 columns</p>\n",
       "</div>"
      ],
      "text/plain": [
       "   Cells_RadialDistribution_ZernikePhase_GFP_6_2  \\\n",
       "0                                      -1.677435   \n",
       "1                                       0.958254   \n",
       "2                                       0.248763   \n",
       "3                                      -1.384300   \n",
       "4                                      -1.689671   \n",
       "\n",
       "   Cells_RadialDistribution_ZernikeMagnitude_DAPI_3_1  \\\n",
       "0                                           0.625136    \n",
       "1                                           0.313378    \n",
       "2                                          -0.850626    \n",
       "3                                           0.749956    \n",
       "4                                          -0.185670    \n",
       "\n",
       "   Cells_RadialDistribution_ZernikePhase_DAPI_9_7  \\\n",
       "0                                        1.518357   \n",
       "1                                       -0.861874   \n",
       "2                                       -0.905618   \n",
       "3                                        1.415600   \n",
       "4                                       -0.337484   \n",
       "\n",
       "   Cytoplasm_Intensity_IntegratedIntensity_DAPI  \\\n",
       "0                                      0.216370   \n",
       "1                                      0.160026   \n",
       "2                                      0.339683   \n",
       "3                                      0.347419   \n",
       "4                                      0.390760   \n",
       "\n",
       "   Nuclei_RadialDistribution_ZernikePhase_CY5_8_8  \\\n",
       "0                                       -0.654427   \n",
       "1                                       -1.395179   \n",
       "2                                       -1.343707   \n",
       "3                                        0.028354   \n",
       "4                                       -1.602552   \n",
       "\n",
       "   Cytoplasm_RadialDistribution_ZernikePhase_GFP_5_3  \\\n",
       "0                                           0.402476   \n",
       "1                                          -1.007452   \n",
       "2                                           0.304697   \n",
       "3                                           0.931277   \n",
       "4                                          -1.314188   \n",
       "\n",
       "   Nuclei_RadialDistribution_ZernikeMagnitude_GFP_7_7  \\\n",
       "0                                           0.837912    \n",
       "1                                          -0.502066    \n",
       "2                                          -0.554036    \n",
       "3                                          -0.192492    \n",
       "4                                           0.809491    \n",
       "\n",
       "   Nuclei_RadialDistribution_ZernikePhase_DAPI_7_7  \\\n",
       "0                                         1.090303   \n",
       "1                                         0.104108   \n",
       "2                                        -1.306485   \n",
       "3                                        -1.031757   \n",
       "4                                         1.238281   \n",
       "\n",
       "   Nuclei_RadialDistribution_ZernikeMagnitude_RFP_8_0  \\\n",
       "0                                           1.180208    \n",
       "1                                           1.844138    \n",
       "2                                          -0.513942    \n",
       "3                                           0.053700    \n",
       "4                                           0.805860    \n",
       "\n",
       "   Cytoplasm_RadialDistribution_ZernikePhase_RFP_2_2  ...  \\\n",
       "0                                           1.276914  ...   \n",
       "1                                           0.257564  ...   \n",
       "2                                           0.480819  ...   \n",
       "3                                           0.991371  ...   \n",
       "4                                           1.694736  ...   \n",
       "\n",
       "   Cells_RadialDistribution_RadialCV_GFP_2of4  \\\n",
       "0                                    1.749038   \n",
       "1                                   -0.644971   \n",
       "2                                   -0.532064   \n",
       "3                                    2.280827   \n",
       "4                                   -0.671582   \n",
       "\n",
       "   Cells_RadialDistribution_ZernikePhase_GFP_7_3  \\\n",
       "0                                      -1.417871   \n",
       "1                                       0.961738   \n",
       "2                                      -1.466929   \n",
       "3                                      -0.833413   \n",
       "4                                       0.428789   \n",
       "\n",
       "   Cells_RadialDistribution_ZernikeMagnitude_DAPI_6_0  \\\n",
       "0                                          -1.241596    \n",
       "1                                          -0.065138    \n",
       "2                                           0.131230    \n",
       "3                                          -0.096487    \n",
       "4                                          -1.307493    \n",
       "\n",
       "   Cytoplasm_RadialDistribution_ZernikeMagnitude_GFP_9_5  \\\n",
       "0                                           0.315861       \n",
       "1                                           0.298905       \n",
       "2                                          -1.023434       \n",
       "3                                          -0.500810       \n",
       "4                                          -0.529744       \n",
       "\n",
       "   Cells_RadialDistribution_ZernikePhase_RFP_9_3  \\\n",
       "0                                       0.400919   \n",
       "1                                      -0.432340   \n",
       "2                                       1.527015   \n",
       "3                                       1.412816   \n",
       "4                                      -0.951060   \n",
       "\n",
       "   Nuclei_RadialDistribution_ZernikePhase_RFP_8_2  \\\n",
       "0                                        1.196219   \n",
       "1                                       -0.422283   \n",
       "2                                        1.472545   \n",
       "3                                       -0.033132   \n",
       "4                                       -1.595130   \n",
       "\n",
       "   Cytoplasm_RadialDistribution_ZernikePhase_RFP_6_4  \\\n",
       "0                                           0.059943   \n",
       "1                                           1.566175   \n",
       "2                                          -1.136578   \n",
       "3                                          -0.784797   \n",
       "4                                           0.693836   \n",
       "\n",
       "   Cytoplasm_RadialDistribution_ZernikeMagnitude_GFP_7_1  \\\n",
       "0                                           1.685460       \n",
       "1                                          -0.962706       \n",
       "2                                           0.840905       \n",
       "3                                           0.275493       \n",
       "4                                           0.225127       \n",
       "\n",
       "   Nuclei_RadialDistribution_ZernikePhase_GFP_7_3  \\\n",
       "0                                       -0.529717   \n",
       "1                                       -0.044767   \n",
       "2                                        1.334838   \n",
       "3                                       -0.932890   \n",
       "4                                        0.137821   \n",
       "\n",
       "   Nuclei_RadialDistribution_ZernikePhase_GFP_5_3  \n",
       "0                                       -1.603872  \n",
       "1                                        0.417456  \n",
       "2                                       -1.339474  \n",
       "3                                        0.651154  \n",
       "4                                       -0.322376  \n",
       "\n",
       "[5 rows x 924 columns]"
      ]
     },
     "execution_count": 10,
     "metadata": {},
     "output_type": "execute_result"
    }
   ],
   "source": [
    "# Filter each DataFrame in selected_dfs to include only common columns\n",
    "selected_dfs_filtered = [df.loc[:, common_columns] for df in selected_dfs]\n",
    "\n",
    "# Concatenate the filtered dataframes along the rows\n",
    "concatenated_df = pd.concat(selected_dfs_filtered, ignore_index=True)\n",
    "\n",
    "# Save the concatenated dataframe to a file\n",
    "output_concatenated_file = pathlib.Path(output_dir, \"concatenated_norm_fs_plates_5_3_3prime.parquet\")\n",
    "concatenated_df.to_parquet(output_concatenated_file, index=False)\n",
    "\n",
    "print(concatenated_df.shape)\n",
    "concatenated_df.head()\n"
   ]
  },
  {
   "cell_type": "code",
   "execution_count": 11,
   "metadata": {},
   "outputs": [
    {
     "name": "stderr",
     "output_type": "stream",
     "text": [
      "/home/jenna/mambaforge/envs/python_analysis_nf1/lib/python3.9/site-packages/umap/umap_.py:1943: UserWarning: n_jobs value -1 overridden to 1 by setting random_state. Use no seed for parallelism.\n",
      "  warn(f\"n_jobs value {self.n_jobs} overridden to 1 by setting random_state. Use no seed for parallelism.\")\n"
     ]
    },
    {
     "name": "stdout",
     "output_type": "stream",
     "text": [
      "(22585, 2)\n"
     ]
    }
   ],
   "source": [
    "desired_columns = [\"Metadata_Plate\",\"Metadata_Well\", \"Metadata_Site\", \"Metadata_number_of_singlecells\", \"Metadata_genotype\"]\n",
    "\n",
    "# Make sure to reinitialize UMAP instance\n",
    "umap_fit = umap.UMAP(\n",
    "    random_state=umap_random_seed,\n",
    "    n_components=umap_n_components\n",
    ")\n",
    "\n",
    "# Process cp_df to separate features and metadata\n",
    "cp_features = infer_cp_features(concatenated_df)\n",
    "meta_features = infer_cp_features(concatenated_df, metadata=True)\n",
    "filtered_meta_features = [feature for feature in meta_features if feature in desired_columns]\n",
    "\n",
    "# Fit UMAP and convert to pandas DataFrame\n",
    "embeddings = pd.DataFrame(\n",
    "    umap_fit.fit_transform(concatenated_df.loc[:, cp_features]),\n",
    "    columns=[f\"UMAP{x}\" for x in range(0, umap_n_components)]\n",
    ")\n",
    "print(embeddings.shape)\n",
    "\n",
    "# Combine with metadata\n",
    "cp_umap_with_metadata_df = pd.concat([\n",
    "    concatenated_df.loc[:, filtered_meta_features],\n",
    "    embeddings\n",
    "], axis=1)\n",
    "\n",
    "# randomize the rows of the dataframe to plot the order of the data evenly\n",
    "cp_umap_with_metadata_df = cp_umap_with_metadata_df.sample(frac=1, random_state=0)\n",
    "\n",
    "# Generate output file and save\n",
    "output_umap_file = pathlib.Path(output_dir, f\"UMAP_concat_model_plates_sc_feature_selected.tsv\")\n",
    "cp_umap_with_metadata_df.to_csv(output_umap_file, index=False, sep=\"\\t\")\n"
   ]
  }
 ],
 "metadata": {
  "kernelspec": {
   "display_name": "Python 3",
   "language": "python",
   "name": "python3"
  },
  "language_info": {
   "codemirror_mode": {
    "name": "ipython",
    "version": 3
   },
   "file_extension": ".py",
   "mimetype": "text/x-python",
   "name": "python",
   "nbconvert_exporter": "python",
   "pygments_lexer": "ipython3",
   "version": "3.9.12"
  }
 },
 "nbformat": 4,
 "nbformat_minor": 2
}
