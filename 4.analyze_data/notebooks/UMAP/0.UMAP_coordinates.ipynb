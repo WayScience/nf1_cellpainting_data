{
 "cells": [
  {
   "cell_type": "markdown",
   "metadata": {},
   "source": [
    "# Generate UMAP coordinates for each plate"
   ]
  },
  {
   "cell_type": "markdown",
   "metadata": {},
   "source": [
    "## Import libraries"
   ]
  },
  {
   "cell_type": "code",
   "execution_count": 1,
   "metadata": {},
   "outputs": [],
   "source": [
    "import glob\n",
    "import pathlib\n",
    "import pandas as pd\n",
    "import umap\n",
    "\n",
    "from pycytominer import feature_select\n",
    "from pycytominer.cyto_utils import infer_cp_features\n"
   ]
  },
  {
   "cell_type": "markdown",
   "metadata": {},
   "source": [
    "## Set constants"
   ]
  },
  {
   "cell_type": "code",
   "execution_count": 2,
   "metadata": {},
   "outputs": [],
   "source": [
    "# Set constants\n",
    "umap_random_seed = 0\n",
    "umap_n_components = 2\n",
    "\n",
    "output_dir = pathlib.Path(\"results\")\n",
    "output_dir.mkdir(parents=True, exist_ok=True)\n"
   ]
  },
  {
   "cell_type": "markdown",
   "metadata": {},
   "source": [
    "## Create list of paths to feature selected data per plate"
   ]
  },
  {
   "cell_type": "code",
   "execution_count": 3,
   "metadata": {},
   "outputs": [
    {
     "data": {
      "text/plain": [
       "['../../../3.processing_features/data/single_cell_profiles/Plate_1_sc_feature_selected.parquet',\n",
       " '../../../3.processing_features/data/single_cell_profiles/Plate_3_prime_sc_feature_selected.parquet',\n",
       " '../../../3.processing_features/data/single_cell_profiles/Plate_4_sc_feature_selected.parquet',\n",
       " '../../../3.processing_features/data/single_cell_profiles/Plate_5_sc_feature_selected.parquet',\n",
       " '../../../3.processing_features/data/single_cell_profiles/Plate_2_sc_feature_selected.parquet',\n",
       " '../../../3.processing_features/data/single_cell_profiles/Plate_3_sc_feature_selected.parquet']"
      ]
     },
     "execution_count": 3,
     "metadata": {},
     "output_type": "execute_result"
    }
   ],
   "source": [
    "# Set input paths\n",
    "data_dir = pathlib.Path(\"../../../3.processing_features/data/single_cell_profiles/\")\n",
    "\n",
    "# Select only the feature selected files\n",
    "file_suffix = \"*sc_feature_selected.parquet\"\n",
    "\n",
    "# Obtain file paths for all feature selected plates\n",
    "fs_files = glob.glob(f\"{data_dir}/{file_suffix}\")\n",
    "fs_files\n"
   ]
  },
  {
   "cell_type": "code",
   "execution_count": 4,
   "metadata": {},
   "outputs": [
    {
     "name": "stdout",
     "output_type": "stream",
     "text": [
      "dict_keys(['Plate_1_sc_feature_selected.parquet', 'Plate_3_prime_sc_feature_selected.parquet', 'Plate_4_sc_feature_selected.parquet', 'Plate_5_sc_feature_selected.parquet', 'Plate_2_sc_feature_selected.parquet', 'Plate_3_sc_feature_selected.parquet'])\n"
     ]
    },
    {
     "data": {
      "text/plain": [
       "[(241, 849),\n",
       " (5506, 1146),\n",
       " (7308, 1163),\n",
       " (5793, 1174),\n",
       " (1714, 856),\n",
       " (11286, 1171)]"
      ]
     },
     "execution_count": 4,
     "metadata": {},
     "output_type": "execute_result"
    }
   ],
   "source": [
    "# Load feature data into a dictionary, keyed on plate name\n",
    "cp_dfs = {x.split(\"/\")[-1]: pd.read_parquet(x) for x in fs_files}\n",
    "\n",
    "# Print out useful information about each dataset\n",
    "print(cp_dfs.keys())\n",
    "[cp_dfs[x].shape for x in cp_dfs]\n"
   ]
  },
  {
   "cell_type": "markdown",
   "metadata": {},
   "source": [
    "## Generate UMAP coordinates for each plate\n",
    "\n",
    "**Note:** Only metadata that is common between plates are included in final data frame."
   ]
  },
  {
   "cell_type": "code",
   "execution_count": 5,
   "metadata": {},
   "outputs": [
    {
     "name": "stdout",
     "output_type": "stream",
     "text": [
      "UMAP embeddings being generated for Plate_1_sc_feature_selected\n"
     ]
    },
    {
     "name": "stderr",
     "output_type": "stream",
     "text": [
      "/home/jenna/mambaforge/envs/python_analysis_nf1/lib/python3.9/site-packages/umap/umap_.py:1943: UserWarning: n_jobs value -1 overridden to 1 by setting random_state. Use no seed for parallelism.\n",
      "  warn(f\"n_jobs value {self.n_jobs} overridden to 1 by setting random_state. Use no seed for parallelism.\")\n"
     ]
    },
    {
     "name": "stdout",
     "output_type": "stream",
     "text": [
      "(241, 2)\n",
      "UMAP embeddings being generated for Plate_3_prime_sc_feature_selected\n"
     ]
    },
    {
     "name": "stderr",
     "output_type": "stream",
     "text": [
      "/home/jenna/mambaforge/envs/python_analysis_nf1/lib/python3.9/site-packages/umap/umap_.py:1943: UserWarning: n_jobs value -1 overridden to 1 by setting random_state. Use no seed for parallelism.\n",
      "  warn(f\"n_jobs value {self.n_jobs} overridden to 1 by setting random_state. Use no seed for parallelism.\")\n"
     ]
    },
    {
     "name": "stdout",
     "output_type": "stream",
     "text": [
      "(5506, 2)\n",
      "UMAP embeddings being generated for Plate_4_sc_feature_selected\n"
     ]
    },
    {
     "name": "stderr",
     "output_type": "stream",
     "text": [
      "/home/jenna/mambaforge/envs/python_analysis_nf1/lib/python3.9/site-packages/umap/umap_.py:1943: UserWarning: n_jobs value -1 overridden to 1 by setting random_state. Use no seed for parallelism.\n",
      "  warn(f\"n_jobs value {self.n_jobs} overridden to 1 by setting random_state. Use no seed for parallelism.\")\n"
     ]
    },
    {
     "name": "stdout",
     "output_type": "stream",
     "text": [
      "(7308, 2)\n",
      "UMAP embeddings being generated for Plate_5_sc_feature_selected\n"
     ]
    },
    {
     "name": "stderr",
     "output_type": "stream",
     "text": [
      "/home/jenna/mambaforge/envs/python_analysis_nf1/lib/python3.9/site-packages/umap/umap_.py:1943: UserWarning: n_jobs value -1 overridden to 1 by setting random_state. Use no seed for parallelism.\n",
      "  warn(f\"n_jobs value {self.n_jobs} overridden to 1 by setting random_state. Use no seed for parallelism.\")\n"
     ]
    },
    {
     "name": "stdout",
     "output_type": "stream",
     "text": [
      "(5793, 2)\n",
      "UMAP embeddings being generated for Plate_2_sc_feature_selected\n"
     ]
    },
    {
     "name": "stderr",
     "output_type": "stream",
     "text": [
      "/home/jenna/mambaforge/envs/python_analysis_nf1/lib/python3.9/site-packages/umap/umap_.py:1943: UserWarning: n_jobs value -1 overridden to 1 by setting random_state. Use no seed for parallelism.\n",
      "  warn(f\"n_jobs value {self.n_jobs} overridden to 1 by setting random_state. Use no seed for parallelism.\")\n"
     ]
    },
    {
     "name": "stdout",
     "output_type": "stream",
     "text": [
      "(1714, 2)\n",
      "UMAP embeddings being generated for Plate_3_sc_feature_selected\n"
     ]
    },
    {
     "name": "stderr",
     "output_type": "stream",
     "text": [
      "/home/jenna/mambaforge/envs/python_analysis_nf1/lib/python3.9/site-packages/umap/umap_.py:1943: UserWarning: n_jobs value -1 overridden to 1 by setting random_state. Use no seed for parallelism.\n",
      "  warn(f\"n_jobs value {self.n_jobs} overridden to 1 by setting random_state. Use no seed for parallelism.\")\n"
     ]
    },
    {
     "name": "stdout",
     "output_type": "stream",
     "text": [
      "(11286, 2)\n"
     ]
    }
   ],
   "source": [
    "desired_columns = [\"Metadata_Plate\",\"Metadata_Well\", \"Metadata_Site\", \"Metadata_number_of_singlecells\", \"Metadata_genotype\"]\n",
    "\n",
    "# Fit UMAP features per dataset and save\n",
    "for plate in cp_dfs:\n",
    "    plate_name = pathlib.Path(plate).stem\n",
    "    print(\"UMAP embeddings being generated for\", plate_name)\n",
    "\n",
    "     # Make sure to reinitialize UMAP instance per plate\n",
    "    umap_fit = umap.UMAP(\n",
    "        random_state=umap_random_seed,\n",
    "        n_components=umap_n_components\n",
    "    )\n",
    "\n",
    "    # Make sure NA columns have been removed\n",
    "    cp_df = cp_dfs[plate]\n",
    "    cp_df = feature_select(\n",
    "        cp_df,\n",
    "        operation=\"drop_na_columns\",\n",
    "        na_cutoff=0\n",
    "    )\n",
    "\n",
    "    # Make sure that the Plate_3_prime has correct name in Metadata_Plate column\n",
    "    if plate_name.replace(\"_sc_feature_selected\", \"\") == \"Plate_3_prime\":\n",
    "        cp_df[\"Metadata_Plate\"] = \"Plate_3_prime\"\n",
    "\n",
    "    # Remove rows with genotype HET for Plate_5\n",
    "    if plate_name.replace(\"_sc_feature_selected\", \"\") == \"Plate_5\":\n",
    "        cp_df = cp_df[cp_df[\"Metadata_genotype\"] != \"HET\"]\n",
    "    \n",
    "    # Process cp_df to separate features and metadata\n",
    "    cp_features = infer_cp_features(cp_df)\n",
    "    meta_features = infer_cp_features(cp_df, metadata=True)\n",
    "    filtered_meta_features = [feature for feature in meta_features if feature in desired_columns]\n",
    "    \n",
    "    # Fit UMAP and convert to pandas DataFrame\n",
    "    embeddings = pd.DataFrame(\n",
    "        umap_fit.fit_transform(cp_df.loc[:, cp_features]),\n",
    "        columns=[f\"UMAP{x}\" for x in range(0, umap_n_components)]\n",
    "    )\n",
    "    print(embeddings.shape)\n",
    "    \n",
    "    # Combine with metadata\n",
    "    cp_umap_with_metadata_df = pd.concat([\n",
    "        cp_df.loc[:, filtered_meta_features].reset_index(drop=True),\n",
    "        embeddings\n",
    "    ], axis=1)\n",
    "    \n",
    "    # randomize the rows of the dataframe to plot the order of the data evenly\n",
    "    cp_umap_with_metadata_df = cp_umap_with_metadata_df.sample(frac=1, random_state=0)\n",
    "\n",
    "    # Generate output file and save\n",
    "    output_umap_file = pathlib.Path(output_dir, f\"UMAP_{plate_name}.tsv\")\n",
    "    cp_umap_with_metadata_df.to_csv(output_umap_file, index=False, sep=\"\\t\")\n"
   ]
  },
  {
   "cell_type": "code",
   "execution_count": 6,
   "metadata": {},
   "outputs": [
    {
     "name": "stdout",
     "output_type": "stream",
     "text": [
      "(11286, 7)\n"
     ]
    },
    {
     "data": {
      "text/html": [
       "<div>\n",
       "<style scoped>\n",
       "    .dataframe tbody tr th:only-of-type {\n",
       "        vertical-align: middle;\n",
       "    }\n",
       "\n",
       "    .dataframe tbody tr th {\n",
       "        vertical-align: top;\n",
       "    }\n",
       "\n",
       "    .dataframe thead th {\n",
       "        text-align: right;\n",
       "    }\n",
       "</style>\n",
       "<table border=\"1\" class=\"dataframe\">\n",
       "  <thead>\n",
       "    <tr style=\"text-align: right;\">\n",
       "      <th></th>\n",
       "      <th>Metadata_Well</th>\n",
       "      <th>Metadata_Site</th>\n",
       "      <th>Metadata_number_of_singlecells</th>\n",
       "      <th>Metadata_genotype</th>\n",
       "      <th>Metadata_Plate</th>\n",
       "      <th>UMAP0</th>\n",
       "      <th>UMAP1</th>\n",
       "    </tr>\n",
       "  </thead>\n",
       "  <tbody>\n",
       "    <tr>\n",
       "      <th>4136</th>\n",
       "      <td>D4</td>\n",
       "      <td>8</td>\n",
       "      <td>636</td>\n",
       "      <td>WT</td>\n",
       "      <td>Plate_3</td>\n",
       "      <td>8.818437</td>\n",
       "      <td>4.097239</td>\n",
       "    </tr>\n",
       "    <tr>\n",
       "      <th>5457</th>\n",
       "      <td>B10</td>\n",
       "      <td>24</td>\n",
       "      <td>86</td>\n",
       "      <td>Null</td>\n",
       "      <td>Plate_3</td>\n",
       "      <td>9.012610</td>\n",
       "      <td>6.500041</td>\n",
       "    </tr>\n",
       "    <tr>\n",
       "      <th>10346</th>\n",
       "      <td>F12</td>\n",
       "      <td>17</td>\n",
       "      <td>647</td>\n",
       "      <td>Null</td>\n",
       "      <td>Plate_3</td>\n",
       "      <td>8.104309</td>\n",
       "      <td>5.912871</td>\n",
       "    </tr>\n",
       "    <tr>\n",
       "      <th>3701</th>\n",
       "      <td>D4</td>\n",
       "      <td>1</td>\n",
       "      <td>636</td>\n",
       "      <td>WT</td>\n",
       "      <td>Plate_3</td>\n",
       "      <td>10.596231</td>\n",
       "      <td>3.488836</td>\n",
       "    </tr>\n",
       "    <tr>\n",
       "      <th>9596</th>\n",
       "      <td>E12</td>\n",
       "      <td>14</td>\n",
       "      <td>607</td>\n",
       "      <td>Null</td>\n",
       "      <td>Plate_3</td>\n",
       "      <td>9.566523</td>\n",
       "      <td>3.041514</td>\n",
       "    </tr>\n",
       "  </tbody>\n",
       "</table>\n",
       "</div>"
      ],
      "text/plain": [
       "      Metadata_Well Metadata_Site  Metadata_number_of_singlecells  \\\n",
       "4136             D4             8                             636   \n",
       "5457            B10            24                              86   \n",
       "10346           F12            17                             647   \n",
       "3701             D4             1                             636   \n",
       "9596            E12            14                             607   \n",
       "\n",
       "      Metadata_genotype Metadata_Plate      UMAP0     UMAP1  \n",
       "4136                 WT        Plate_3   8.818437  4.097239  \n",
       "5457               Null        Plate_3   9.012610  6.500041  \n",
       "10346              Null        Plate_3   8.104309  5.912871  \n",
       "3701                 WT        Plate_3  10.596231  3.488836  \n",
       "9596               Null        Plate_3   9.566523  3.041514  "
      ]
     },
     "execution_count": 6,
     "metadata": {},
     "output_type": "execute_result"
    }
   ],
   "source": [
    "# Print an example output file\n",
    "print(cp_umap_with_metadata_df.shape)\n",
    "cp_umap_with_metadata_df.head()\n"
   ]
  },
  {
   "cell_type": "code",
   "execution_count": 7,
   "metadata": {},
   "outputs": [
    {
     "data": {
      "text/plain": [
       "['../../../3.processing_features/data/single_cell_profiles/Plate_1_sc_feature_selected.parquet',\n",
       " '../../../3.processing_features/data/single_cell_profiles/Plate_3_prime_sc_feature_selected.parquet',\n",
       " '../../../3.processing_features/data/single_cell_profiles/Plate_4_sc_feature_selected.parquet',\n",
       " '../../../3.processing_features/data/single_cell_profiles/Plate_5_sc_feature_selected.parquet',\n",
       " '../../../3.processing_features/data/single_cell_profiles/Plate_2_sc_feature_selected.parquet',\n",
       " '../../../3.processing_features/data/single_cell_profiles/Plate_3_sc_feature_selected.parquet']"
      ]
     },
     "execution_count": 7,
     "metadata": {},
     "output_type": "execute_result"
    }
   ],
   "source": [
    "# Set input paths\n",
    "data_dir = pathlib.Path(\"../../../3.processing_features/data/single_cell_profiles/\")\n",
    "\n",
    "# Select only the feature selected files\n",
    "fs_suffix = \"*sc_feature_selected.parquet\"\n",
    "\n",
    "# Obtain file paths for all feature selected plates\n",
    "fs_files = glob.glob(f\"{data_dir}/{fs_suffix}\")\n",
    "fs_files"
   ]
  },
  {
   "cell_type": "code",
   "execution_count": 8,
   "metadata": {},
   "outputs": [],
   "source": [
    "# Select file paths for plates 5, 3, and 3 prime only\n",
    "selected_plates = [\"Plate_5\", \"Plate_3\", \"Plate_3_prime\", \"Plate_4\"]\n",
    "\n",
    "# Filter and concatenate the selected plates\n",
    "selected_dfs = []\n",
    "for file_path in fs_files:\n",
    "    plate_name = pathlib.Path(file_path).stem.replace(\"_sc_feature_selected\", \"\")\n",
    "\n",
    "    # Only read in selected plates\n",
    "    if plate_name in selected_plates:\n",
    "        df = pd.read_parquet(file_path)\n",
    "\n",
    "        # Update Metadata_Plate for Plate_3_prime\n",
    "        if plate_name == \"Plate_3_prime\":\n",
    "            df[\"Metadata_Plate\"] = \"Plate_3_prime\"\n",
    "\n",
    "        # For Plate_4, only include rows where Metadata_siRNA is \"None\"\n",
    "        if plate_name == \"Plate_4\":\n",
    "            # Fill NaN values in \"Metadata_siRNA\" column with \"No Construct\"\n",
    "            df[\"Metadata_siRNA\"].fillna(\"No Construct\", inplace=True)\n",
    "\n",
    "            # Filter out rows where \"Metadata_siRNA\" is \"No Construct\"\n",
    "            df = df[df[\"Metadata_siRNA\"] == \"No Construct\"]\n",
    "\n",
    "        selected_dfs.append(df)"
   ]
  },
  {
   "cell_type": "code",
   "execution_count": 9,
   "metadata": {},
   "outputs": [
    {
     "data": {
      "text/plain": [
       "869"
      ]
     },
     "execution_count": 9,
     "metadata": {},
     "output_type": "execute_result"
    }
   ],
   "source": [
    "# Get the column names of all DataFrames in selected_dfs\n",
    "column_sets = [set(df.columns) for df in selected_dfs]\n",
    "\n",
    "# Find the common column names across all DataFrames\n",
    "common_columns = list(set.intersection(*column_sets))\n",
    "\n",
    "len(common_columns)"
   ]
  },
  {
   "cell_type": "code",
   "execution_count": 10,
   "metadata": {},
   "outputs": [
    {
     "name": "stdout",
     "output_type": "stream",
     "text": [
      "(24237, 869)\n"
     ]
    },
    {
     "data": {
      "text/html": [
       "<div>\n",
       "<style scoped>\n",
       "    .dataframe tbody tr th:only-of-type {\n",
       "        vertical-align: middle;\n",
       "    }\n",
       "\n",
       "    .dataframe tbody tr th {\n",
       "        vertical-align: top;\n",
       "    }\n",
       "\n",
       "    .dataframe thead th {\n",
       "        text-align: right;\n",
       "    }\n",
       "</style>\n",
       "<table border=\"1\" class=\"dataframe\">\n",
       "  <thead>\n",
       "    <tr style=\"text-align: right;\">\n",
       "      <th></th>\n",
       "      <th>Nuclei_AreaShape_Zernike_7_7</th>\n",
       "      <th>Cells_RadialDistribution_ZernikeMagnitude_GFP_9_5</th>\n",
       "      <th>Cytoplasm_RadialDistribution_ZernikePhase_DAPI_1_1</th>\n",
       "      <th>Cells_RadialDistribution_MeanFrac_CY5_1of4</th>\n",
       "      <th>Cytoplasm_AreaShape_MinorAxisLength</th>\n",
       "      <th>Nuclei_AreaShape_Zernike_3_3</th>\n",
       "      <th>Nuclei_RadialDistribution_MeanFrac_DAPI_4of4</th>\n",
       "      <th>Cytoplasm_RadialDistribution_ZernikePhase_DAPI_6_2</th>\n",
       "      <th>Nuclei_RadialDistribution_ZernikePhase_GFP_7_5</th>\n",
       "      <th>Cytoplasm_AreaShape_Zernike_7_3</th>\n",
       "      <th>...</th>\n",
       "      <th>Nuclei_RadialDistribution_ZernikeMagnitude_CY5_7_3</th>\n",
       "      <th>Nuclei_RadialDistribution_ZernikeMagnitude_RFP_6_4</th>\n",
       "      <th>Cytoplasm_Texture_Contrast_DAPI_3_03_256</th>\n",
       "      <th>Cytoplasm_RadialDistribution_ZernikeMagnitude_CY5_7_3</th>\n",
       "      <th>Cytoplasm_RadialDistribution_ZernikeMagnitude_RFP_5_1</th>\n",
       "      <th>Cytoplasm_RadialDistribution_ZernikePhase_DAPI_7_7</th>\n",
       "      <th>Cytoplasm_RadialDistribution_ZernikePhase_CY5_4_2</th>\n",
       "      <th>Cytoplasm_Texture_Contrast_DAPI_3_02_256</th>\n",
       "      <th>Cells_RadialDistribution_ZernikePhase_CY5_9_1</th>\n",
       "      <th>Nuclei_RadialDistribution_ZernikePhase_GFP_5_1</th>\n",
       "    </tr>\n",
       "  </thead>\n",
       "  <tbody>\n",
       "    <tr>\n",
       "      <th>0</th>\n",
       "      <td>0.820799</td>\n",
       "      <td>0.886213</td>\n",
       "      <td>1.348157</td>\n",
       "      <td>-0.043321</td>\n",
       "      <td>-0.640512</td>\n",
       "      <td>0.009005</td>\n",
       "      <td>0.599211</td>\n",
       "      <td>1.624052</td>\n",
       "      <td>-1.530704</td>\n",
       "      <td>-0.029108</td>\n",
       "      <td>...</td>\n",
       "      <td>-0.922932</td>\n",
       "      <td>0.648051</td>\n",
       "      <td>-0.328925</td>\n",
       "      <td>-0.950616</td>\n",
       "      <td>4.891929</td>\n",
       "      <td>0.117734</td>\n",
       "      <td>-0.439511</td>\n",
       "      <td>-0.380740</td>\n",
       "      <td>-1.558524</td>\n",
       "      <td>1.116379</td>\n",
       "    </tr>\n",
       "    <tr>\n",
       "      <th>1</th>\n",
       "      <td>-0.459939</td>\n",
       "      <td>0.662163</td>\n",
       "      <td>0.906750</td>\n",
       "      <td>-0.466150</td>\n",
       "      <td>0.712005</td>\n",
       "      <td>-0.707298</td>\n",
       "      <td>0.279534</td>\n",
       "      <td>0.938638</td>\n",
       "      <td>-1.332616</td>\n",
       "      <td>-1.394503</td>\n",
       "      <td>...</td>\n",
       "      <td>-0.708675</td>\n",
       "      <td>-0.086966</td>\n",
       "      <td>0.112074</td>\n",
       "      <td>-0.695485</td>\n",
       "      <td>1.971569</td>\n",
       "      <td>1.673029</td>\n",
       "      <td>-0.780734</td>\n",
       "      <td>0.172885</td>\n",
       "      <td>-0.798598</td>\n",
       "      <td>-0.660811</td>\n",
       "    </tr>\n",
       "    <tr>\n",
       "      <th>2</th>\n",
       "      <td>-0.549263</td>\n",
       "      <td>-0.981008</td>\n",
       "      <td>-1.228950</td>\n",
       "      <td>-0.587076</td>\n",
       "      <td>2.409091</td>\n",
       "      <td>0.329947</td>\n",
       "      <td>0.128703</td>\n",
       "      <td>0.165950</td>\n",
       "      <td>-1.309550</td>\n",
       "      <td>-1.444137</td>\n",
       "      <td>...</td>\n",
       "      <td>-0.597158</td>\n",
       "      <td>-0.214997</td>\n",
       "      <td>-0.351740</td>\n",
       "      <td>-1.068902</td>\n",
       "      <td>1.203431</td>\n",
       "      <td>0.881731</td>\n",
       "      <td>-1.279213</td>\n",
       "      <td>-0.508852</td>\n",
       "      <td>-1.627737</td>\n",
       "      <td>-1.645463</td>\n",
       "    </tr>\n",
       "    <tr>\n",
       "      <th>3</th>\n",
       "      <td>0.160538</td>\n",
       "      <td>-0.592948</td>\n",
       "      <td>1.347058</td>\n",
       "      <td>0.651058</td>\n",
       "      <td>0.305211</td>\n",
       "      <td>0.383156</td>\n",
       "      <td>0.583868</td>\n",
       "      <td>-1.710975</td>\n",
       "      <td>0.426957</td>\n",
       "      <td>-0.628029</td>\n",
       "      <td>...</td>\n",
       "      <td>3.074006</td>\n",
       "      <td>0.061657</td>\n",
       "      <td>-0.019988</td>\n",
       "      <td>-0.606614</td>\n",
       "      <td>-0.858070</td>\n",
       "      <td>-0.666867</td>\n",
       "      <td>0.204312</td>\n",
       "      <td>0.077855</td>\n",
       "      <td>-1.514506</td>\n",
       "      <td>-1.695278</td>\n",
       "    </tr>\n",
       "    <tr>\n",
       "      <th>4</th>\n",
       "      <td>-0.891624</td>\n",
       "      <td>-0.212319</td>\n",
       "      <td>-0.605177</td>\n",
       "      <td>2.561400</td>\n",
       "      <td>0.265424</td>\n",
       "      <td>-0.361653</td>\n",
       "      <td>-0.101686</td>\n",
       "      <td>1.506895</td>\n",
       "      <td>0.311295</td>\n",
       "      <td>-0.275872</td>\n",
       "      <td>...</td>\n",
       "      <td>-0.383712</td>\n",
       "      <td>-1.134100</td>\n",
       "      <td>-0.559689</td>\n",
       "      <td>-0.702972</td>\n",
       "      <td>-0.723711</td>\n",
       "      <td>0.992172</td>\n",
       "      <td>0.016732</td>\n",
       "      <td>-0.242222</td>\n",
       "      <td>-0.612905</td>\n",
       "      <td>-0.854758</td>\n",
       "    </tr>\n",
       "  </tbody>\n",
       "</table>\n",
       "<p>5 rows × 869 columns</p>\n",
       "</div>"
      ],
      "text/plain": [
       "   Nuclei_AreaShape_Zernike_7_7  \\\n",
       "0                      0.820799   \n",
       "1                     -0.459939   \n",
       "2                     -0.549263   \n",
       "3                      0.160538   \n",
       "4                     -0.891624   \n",
       "\n",
       "   Cells_RadialDistribution_ZernikeMagnitude_GFP_9_5  \\\n",
       "0                                           0.886213   \n",
       "1                                           0.662163   \n",
       "2                                          -0.981008   \n",
       "3                                          -0.592948   \n",
       "4                                          -0.212319   \n",
       "\n",
       "   Cytoplasm_RadialDistribution_ZernikePhase_DAPI_1_1  \\\n",
       "0                                           1.348157    \n",
       "1                                           0.906750    \n",
       "2                                          -1.228950    \n",
       "3                                           1.347058    \n",
       "4                                          -0.605177    \n",
       "\n",
       "   Cells_RadialDistribution_MeanFrac_CY5_1of4  \\\n",
       "0                                   -0.043321   \n",
       "1                                   -0.466150   \n",
       "2                                   -0.587076   \n",
       "3                                    0.651058   \n",
       "4                                    2.561400   \n",
       "\n",
       "   Cytoplasm_AreaShape_MinorAxisLength  Nuclei_AreaShape_Zernike_3_3  \\\n",
       "0                            -0.640512                      0.009005   \n",
       "1                             0.712005                     -0.707298   \n",
       "2                             2.409091                      0.329947   \n",
       "3                             0.305211                      0.383156   \n",
       "4                             0.265424                     -0.361653   \n",
       "\n",
       "   Nuclei_RadialDistribution_MeanFrac_DAPI_4of4  \\\n",
       "0                                      0.599211   \n",
       "1                                      0.279534   \n",
       "2                                      0.128703   \n",
       "3                                      0.583868   \n",
       "4                                     -0.101686   \n",
       "\n",
       "   Cytoplasm_RadialDistribution_ZernikePhase_DAPI_6_2  \\\n",
       "0                                           1.624052    \n",
       "1                                           0.938638    \n",
       "2                                           0.165950    \n",
       "3                                          -1.710975    \n",
       "4                                           1.506895    \n",
       "\n",
       "   Nuclei_RadialDistribution_ZernikePhase_GFP_7_5  \\\n",
       "0                                       -1.530704   \n",
       "1                                       -1.332616   \n",
       "2                                       -1.309550   \n",
       "3                                        0.426957   \n",
       "4                                        0.311295   \n",
       "\n",
       "   Cytoplasm_AreaShape_Zernike_7_3  ...  \\\n",
       "0                        -0.029108  ...   \n",
       "1                        -1.394503  ...   \n",
       "2                        -1.444137  ...   \n",
       "3                        -0.628029  ...   \n",
       "4                        -0.275872  ...   \n",
       "\n",
       "   Nuclei_RadialDistribution_ZernikeMagnitude_CY5_7_3  \\\n",
       "0                                          -0.922932    \n",
       "1                                          -0.708675    \n",
       "2                                          -0.597158    \n",
       "3                                           3.074006    \n",
       "4                                          -0.383712    \n",
       "\n",
       "   Nuclei_RadialDistribution_ZernikeMagnitude_RFP_6_4  \\\n",
       "0                                           0.648051    \n",
       "1                                          -0.086966    \n",
       "2                                          -0.214997    \n",
       "3                                           0.061657    \n",
       "4                                          -1.134100    \n",
       "\n",
       "   Cytoplasm_Texture_Contrast_DAPI_3_03_256  \\\n",
       "0                                 -0.328925   \n",
       "1                                  0.112074   \n",
       "2                                 -0.351740   \n",
       "3                                 -0.019988   \n",
       "4                                 -0.559689   \n",
       "\n",
       "   Cytoplasm_RadialDistribution_ZernikeMagnitude_CY5_7_3  \\\n",
       "0                                          -0.950616       \n",
       "1                                          -0.695485       \n",
       "2                                          -1.068902       \n",
       "3                                          -0.606614       \n",
       "4                                          -0.702972       \n",
       "\n",
       "   Cytoplasm_RadialDistribution_ZernikeMagnitude_RFP_5_1  \\\n",
       "0                                           4.891929       \n",
       "1                                           1.971569       \n",
       "2                                           1.203431       \n",
       "3                                          -0.858070       \n",
       "4                                          -0.723711       \n",
       "\n",
       "   Cytoplasm_RadialDistribution_ZernikePhase_DAPI_7_7  \\\n",
       "0                                           0.117734    \n",
       "1                                           1.673029    \n",
       "2                                           0.881731    \n",
       "3                                          -0.666867    \n",
       "4                                           0.992172    \n",
       "\n",
       "   Cytoplasm_RadialDistribution_ZernikePhase_CY5_4_2  \\\n",
       "0                                          -0.439511   \n",
       "1                                          -0.780734   \n",
       "2                                          -1.279213   \n",
       "3                                           0.204312   \n",
       "4                                           0.016732   \n",
       "\n",
       "   Cytoplasm_Texture_Contrast_DAPI_3_02_256  \\\n",
       "0                                 -0.380740   \n",
       "1                                  0.172885   \n",
       "2                                 -0.508852   \n",
       "3                                  0.077855   \n",
       "4                                 -0.242222   \n",
       "\n",
       "   Cells_RadialDistribution_ZernikePhase_CY5_9_1  \\\n",
       "0                                      -1.558524   \n",
       "1                                      -0.798598   \n",
       "2                                      -1.627737   \n",
       "3                                      -1.514506   \n",
       "4                                      -0.612905   \n",
       "\n",
       "   Nuclei_RadialDistribution_ZernikePhase_GFP_5_1  \n",
       "0                                        1.116379  \n",
       "1                                       -0.660811  \n",
       "2                                       -1.645463  \n",
       "3                                       -1.695278  \n",
       "4                                       -0.854758  \n",
       "\n",
       "[5 rows x 869 columns]"
      ]
     },
     "execution_count": 10,
     "metadata": {},
     "output_type": "execute_result"
    }
   ],
   "source": [
    "# Filter each DataFrame in selected_dfs to include only common columns\n",
    "selected_dfs_filtered = [df.loc[:, common_columns] for df in selected_dfs]\n",
    "\n",
    "# Concatenate the filtered dataframes along the rows\n",
    "concatenated_df = pd.concat(selected_dfs_filtered, ignore_index=True)\n",
    "\n",
    "# Save the concatenated dataframe to a file\n",
    "output_concatenated_file = pathlib.Path(output_dir, \"concatenated_norm_fs_plates_5_3_3prime_4controls.parquet\")\n",
    "concatenated_df.to_parquet(output_concatenated_file, index=False)\n",
    "\n",
    "print(concatenated_df.shape)\n",
    "concatenated_df.head()\n"
   ]
  },
  {
   "cell_type": "code",
   "execution_count": 11,
   "metadata": {},
   "outputs": [
    {
     "name": "stderr",
     "output_type": "stream",
     "text": [
      "/home/jenna/mambaforge/envs/python_analysis_nf1/lib/python3.9/site-packages/umap/umap_.py:1943: UserWarning: n_jobs value -1 overridden to 1 by setting random_state. Use no seed for parallelism.\n",
      "  warn(f\"n_jobs value {self.n_jobs} overridden to 1 by setting random_state. Use no seed for parallelism.\")\n"
     ]
    },
    {
     "name": "stdout",
     "output_type": "stream",
     "text": [
      "(24237, 2)\n"
     ]
    }
   ],
   "source": [
    "desired_columns = [\"Metadata_Plate\",\"Metadata_Well\", \"Metadata_Site\", \"Metadata_number_of_singlecells\", \"Metadata_genotype\"]\n",
    "\n",
    "# Make sure to reinitialize UMAP instance\n",
    "umap_fit = umap.UMAP(\n",
    "    random_state=umap_random_seed,\n",
    "    n_components=umap_n_components\n",
    ")\n",
    "\n",
    "# Process cp_df to separate features and metadata\n",
    "cp_features = infer_cp_features(concatenated_df)\n",
    "meta_features = infer_cp_features(concatenated_df, metadata=True)\n",
    "filtered_meta_features = [feature for feature in meta_features if feature in desired_columns]\n",
    "\n",
    "# Fit UMAP and convert to pandas DataFrame\n",
    "embeddings = pd.DataFrame(\n",
    "    umap_fit.fit_transform(concatenated_df.loc[:, cp_features]),\n",
    "    columns=[f\"UMAP{x}\" for x in range(0, umap_n_components)]\n",
    ")\n",
    "print(embeddings.shape)\n",
    "\n",
    "# Combine with metadata\n",
    "cp_umap_with_metadata_df = pd.concat([\n",
    "    concatenated_df.loc[:, filtered_meta_features],\n",
    "    embeddings\n",
    "], axis=1)\n",
    "\n",
    "# randomize the rows of the dataframe to plot the order of the data evenly\n",
    "cp_umap_with_metadata_df = cp_umap_with_metadata_df.sample(frac=1, random_state=0)\n",
    "\n",
    "# Generate output file and save\n",
    "output_umap_file = pathlib.Path(output_dir, f\"UMAP_concat_model_plates_sc_feature_selected.tsv\")\n",
    "cp_umap_with_metadata_df.to_csv(output_umap_file, index=False, sep=\"\\t\")\n"
   ]
  }
 ],
 "metadata": {
  "kernelspec": {
   "display_name": "Python 3",
   "language": "python",
   "name": "python3"
  },
  "language_info": {
   "codemirror_mode": {
    "name": "ipython",
    "version": 3
   },
   "file_extension": ".py",
   "mimetype": "text/x-python",
   "name": "python",
   "nbconvert_exporter": "python",
   "pygments_lexer": "ipython3",
   "version": "3.9.12"
  }
 },
 "nbformat": 4,
 "nbformat_minor": 2
}
